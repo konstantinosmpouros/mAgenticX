{
 "cells": [
  {
   "cell_type": "markdown",
   "id": "ab4e5e23-0d95-48b7-9d40-3feb1574dd80",
   "metadata": {},
   "source": [
    "# OrthodoxAI - RAG"
   ]
  },
  {
   "cell_type": "markdown",
   "id": "93436f78-64e8-4881-853c-849d9637d5d5",
   "metadata": {},
   "source": [
    "> Konstantinos Mpouros <br>\n",
    "> Github: https://github.com/konstantinosmpouros?tab=repositories<br>\n",
    "> Year: 2025"
   ]
  },
  {
   "cell_type": "markdown",
   "id": "96ae20cd-6671-4c01-ab8e-c120cef88292",
   "metadata": {},
   "source": [
    "## About the Project"
   ]
  },
  {
   "cell_type": "markdown",
   "id": "ca2e2e84-e26b-42fe-a7c3-290da6abea3e",
   "metadata": {},
   "source": [
    "This notebook is dedicated to prototyping and testing **Retrieval-Augmented Generation (RAG)** methods within the **OrthodoxAI** framework.\n",
    "\n",
    "It serves as a sandbox to:\n",
    "\n",
    "- Evaluate different libraries and methods for building vector stores  \n",
    "- Benchmark the performance and timing of the retrieval process  \n",
    "- Isolate and debug components before integrating them into the main agent system\n",
    "\n",
    "This notebook is focused solely on the retrieval layer of RAG, without involving agent roles or generation logic at this stage."
   ]
  },
  {
   "cell_type": "markdown",
   "id": "3437e9e4-ac36-499b-9acb-230e48c4b70f",
   "metadata": {},
   "source": [
    "## Libraries"
   ]
  },
  {
   "cell_type": "code",
   "execution_count": null,
   "id": "f8761710-aac8-4f87-a443-325df837901c",
   "metadata": {},
   "outputs": [],
   "source": []
  },
  {
   "cell_type": "code",
   "execution_count": null,
   "id": "998fed49-42c1-4df8-b6af-ae4342932a58",
   "metadata": {},
   "outputs": [],
   "source": []
  },
  {
   "cell_type": "code",
   "execution_count": null,
   "id": "e1ea3327-5d40-4bb4-b4f8-d7bf013b170c",
   "metadata": {},
   "outputs": [],
   "source": []
  },
  {
   "cell_type": "code",
   "execution_count": null,
   "id": "c0c90a01-b1c4-485e-bf95-05ebf308555e",
   "metadata": {},
   "outputs": [],
   "source": []
  },
  {
   "cell_type": "code",
   "execution_count": null,
   "id": "9cb52a50-4096-4e09-a320-629853914825",
   "metadata": {},
   "outputs": [],
   "source": []
  },
  {
   "cell_type": "code",
   "execution_count": null,
   "id": "a6766787-41b6-438b-b427-a5445eb5c317",
   "metadata": {},
   "outputs": [],
   "source": []
  }
 ],
 "metadata": {
  "kernelspec": {
   "display_name": "Python 3 (ipykernel)",
   "language": "python",
   "name": "python3"
  },
  "language_info": {
   "codemirror_mode": {
    "name": "ipython",
    "version": 3
   },
   "file_extension": ".py",
   "mimetype": "text/x-python",
   "name": "python",
   "nbconvert_exporter": "python",
   "pygments_lexer": "ipython3",
   "version": "3.10.12"
  }
 },
 "nbformat": 4,
 "nbformat_minor": 5
}
