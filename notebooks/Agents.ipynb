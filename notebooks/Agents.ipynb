{
 "cells": [
  {
   "cell_type": "markdown",
   "id": "f594c1ba-ca36-46e8-8789-8df62851f3c7",
   "metadata": {},
   "source": [
    "# OrthodoxAI - Agents"
   ]
  },
  {
   "cell_type": "markdown",
   "id": "bacd36b1-71ca-4bd8-9e69-99206f25b0e4",
   "metadata": {},
   "source": [
    "> Konstantinos Mpouros <br>\n",
    "> Github: https://github.com/konstantinosmpouros?tab=repositories<br>\n",
    "> Year: 2025"
   ]
  },
  {
   "cell_type": "markdown",
   "id": "4a8e8053-ccff-461b-9a96-8f44526620b1",
   "metadata": {},
   "source": [
    "## About the Project"
   ]
  },
  {
   "cell_type": "markdown",
   "id": "8d1b5c23-4989-4a01-a419-bfb4628abcba",
   "metadata": {},
   "source": []
  },
  {
   "cell_type": "markdown",
   "id": "d713835e-2b12-4806-b6c9-e771fed71705",
   "metadata": {},
   "source": [
    "## Libraries"
   ]
  },
  {
   "cell_type": "code",
   "execution_count": 1,
   "id": "9f3edff7-c5f4-475b-93fa-94ab5882f936",
   "metadata": {},
   "outputs": [],
   "source": [
    "# Load the API Keys\n",
    "import os\n",
    "from dotenv import load_dotenv\n",
    "_ = load_dotenv()"
   ]
  },
  {
   "cell_type": "markdown",
   "id": "03b8e99c-6ea1-4992-a245-a1aae18bc630",
   "metadata": {},
   "source": [
    "## OpenAI"
   ]
  },
  {
   "cell_type": "code",
   "execution_count": 82,
   "id": "551f9895-c065-4ddf-8390-a248bac20927",
   "metadata": {},
   "outputs": [],
   "source": [
    "from pydantic import BaseModel, Field\n",
    "from typing import List, Literal\n",
    "\n",
    "import openai\n",
    "from openai import OpenAI"
   ]
  },
  {
   "cell_type": "code",
   "execution_count": 83,
   "id": "f85a9871-35f4-44d1-b215-7618bd4d86ff",
   "metadata": {},
   "outputs": [],
   "source": [
    "class AnalyzerOutput(BaseModel):\n",
    "    classification: Literal[\"Religious\", \"Non-Religious\"] = Field(..., description=\"Either 'Religious' or 'Non-Religious'\")\n",
    "    key_topics: List[str] = Field(..., description=\"List of key topics/areas related to the user's question (e.g., theology, jesus, humility, virtues)\",)\n",
    "    context_requirements: str = Field(..., description=\"A clear explanation of the query's context needs\")\n",
    "    query_complexity: Literal[\"Low\", \"Medium\", \"High\"] = Field(..., description=\"'Low', 'Medium', or 'High' complexity\")\n",
    "    reasoning: str = Field(..., description=\"The Chain of Thought that has been done in order to analyze the user query\")"
   ]
  },
  {
   "cell_type": "code",
   "execution_count": 84,
   "id": "f01b20ef-1bac-48d3-87b7-ba82518909ba",
   "metadata": {},
   "outputs": [],
   "source": [
    "MODEL_NAME = 'o3-mini'\n",
    "\n",
    "client = OpenAI()\n",
    "\n",
    "chat_template = [\n",
    "    {\"role\": \"system\", \"content\": \"You are an AI assistant that classifies user queries as either religious or non-religious and extracts key topics.\"},\n",
    "    {\"role\": \"user\", \"content\": \"Helloo!!\"}\n",
    "]"
   ]
  },
  {
   "cell_type": "code",
   "execution_count": 87,
   "id": "922f7803-e176-4da4-85e1-53a55a1a2f42",
   "metadata": {
    "scrolled": true
   },
   "outputs": [
    {
     "name": "stdout",
     "output_type": "stream",
     "text": [
      "content.delta parsed: {}\n",
      "content.delta parsed: {}\n",
      "content.delta parsed: {}\n",
      "content.delta parsed: {}\n",
      "content.delta parsed: {}\n",
      "content.delta parsed: {}\n",
      "content.delta parsed: {}\n",
      "content.delta parsed: {}\n",
      "content.delta parsed: {}\n",
      "content.delta parsed: {}\n",
      "content.delta parsed: {'classification': 'Non-Religious'}\n",
      "content.delta parsed: {'classification': 'Non-Religious'}\n",
      "content.delta parsed: {'classification': 'Non-Religious'}\n",
      "content.delta parsed: {'classification': 'Non-Religious'}\n",
      "content.delta parsed: {'classification': 'Non-Religious'}\n",
      "content.delta parsed: {'classification': 'Non-Religious'}\n",
      "content.delta parsed: {'classification': 'Non-Religious', 'key_topics': []}\n",
      "content.delta parsed: {'classification': 'Non-Religious', 'key_topics': []}\n",
      "content.delta parsed: {'classification': 'Non-Religious', 'key_topics': []}\n",
      "content.delta parsed: {'classification': 'Non-Religious', 'key_topics': ['greeting']}\n",
      "content.delta parsed: {'classification': 'Non-Religious', 'key_topics': ['greeting']}\n",
      "content.delta parsed: {'classification': 'Non-Religious', 'key_topics': ['greeting']}\n",
      "content.delta parsed: {'classification': 'Non-Religious', 'key_topics': ['greeting']}\n",
      "content.delta parsed: {'classification': 'Non-Religious', 'key_topics': ['greeting']}\n",
      "content.delta parsed: {'classification': 'Non-Religious', 'key_topics': ['greeting']}\n",
      "content.delta parsed: {'classification': 'Non-Religious', 'key_topics': ['greeting']}\n",
      "content.delta parsed: {'classification': 'Non-Religious', 'key_topics': ['greeting']}\n",
      "content.delta parsed: {'classification': 'Non-Religious', 'key_topics': ['greeting']}\n",
      "content.delta parsed: {'classification': 'Non-Religious', 'key_topics': ['greeting']}\n",
      "content.delta parsed: {'classification': 'Non-Religious', 'key_topics': ['greeting']}\n",
      "content.delta parsed: {'classification': 'Non-Religious', 'key_topics': ['greeting']}\n",
      "content.delta parsed: {'classification': 'Non-Religious', 'key_topics': ['greeting']}\n",
      "content.delta parsed: {'classification': 'Non-Religious', 'key_topics': ['greeting']}\n",
      "content.delta parsed: {'classification': 'Non-Religious', 'key_topics': ['greeting']}\n",
      "content.delta parsed: {'classification': 'Non-Religious', 'key_topics': ['greeting']}\n",
      "content.delta parsed: {'classification': 'Non-Religious', 'key_topics': ['greeting']}\n",
      "content.delta parsed: {'classification': 'Non-Religious', 'key_topics': ['greeting']}\n",
      "content.delta parsed: {'classification': 'Non-Religious', 'key_topics': ['greeting']}\n",
      "content.delta parsed: {'classification': 'Non-Religious', 'key_topics': ['greeting']}\n",
      "content.delta parsed: {'classification': 'Non-Religious', 'key_topics': ['greeting']}\n",
      "content.delta parsed: {'classification': 'Non-Religious', 'key_topics': ['greeting']}\n",
      "content.delta parsed: {'classification': 'Non-Religious', 'key_topics': ['greeting']}\n",
      "content.delta parsed: {'classification': 'Non-Religious', 'key_topics': ['greeting']}\n",
      "content.delta parsed: {'classification': 'Non-Religious', 'key_topics': ['greeting']}\n",
      "content.delta parsed: {'classification': 'Non-Religious', 'key_topics': ['greeting']}\n",
      "content.delta parsed: {'classification': 'Non-Religious', 'key_topics': ['greeting']}\n",
      "content.delta parsed: {'classification': 'Non-Religious', 'key_topics': ['greeting']}\n",
      "content.delta parsed: {'classification': 'Non-Religious', 'key_topics': ['greeting']}\n",
      "content.delta parsed: {'classification': 'Non-Religious', 'key_topics': ['greeting']}\n",
      "content.delta parsed: {'classification': 'Non-Religious', 'key_topics': ['greeting']}\n",
      "content.delta parsed: {'classification': 'Non-Religious', 'key_topics': ['greeting']}\n",
      "content.delta parsed: {'classification': 'Non-Religious', 'key_topics': ['greeting']}\n",
      "content.delta parsed: {'classification': 'Non-Religious', 'key_topics': ['greeting']}\n",
      "content.delta parsed: {'classification': 'Non-Religious', 'key_topics': ['greeting']}\n",
      "content.delta parsed: {'classification': 'Non-Religious', 'key_topics': ['greeting'], 'context_requirements': \"The query is a simple greeting without additional context related to any specific topic. Further information would be necessary to determine if there's a deeper intent.\"}\n",
      "content.delta parsed: {'classification': 'Non-Religious', 'key_topics': ['greeting'], 'context_requirements': \"The query is a simple greeting without additional context related to any specific topic. Further information would be necessary to determine if there's a deeper intent.\"}\n",
      "content.delta parsed: {'classification': 'Non-Religious', 'key_topics': ['greeting'], 'context_requirements': \"The query is a simple greeting without additional context related to any specific topic. Further information would be necessary to determine if there's a deeper intent.\"}\n",
      "content.delta parsed: {'classification': 'Non-Religious', 'key_topics': ['greeting'], 'context_requirements': \"The query is a simple greeting without additional context related to any specific topic. Further information would be necessary to determine if there's a deeper intent.\"}\n",
      "content.delta parsed: {'classification': 'Non-Religious', 'key_topics': ['greeting'], 'context_requirements': \"The query is a simple greeting without additional context related to any specific topic. Further information would be necessary to determine if there's a deeper intent.\"}\n",
      "content.delta parsed: {'classification': 'Non-Religious', 'key_topics': ['greeting'], 'context_requirements': \"The query is a simple greeting without additional context related to any specific topic. Further information would be necessary to determine if there's a deeper intent.\"}\n",
      "content.delta parsed: {'classification': 'Non-Religious', 'key_topics': ['greeting'], 'context_requirements': \"The query is a simple greeting without additional context related to any specific topic. Further information would be necessary to determine if there's a deeper intent.\"}\n",
      "content.delta parsed: {'classification': 'Non-Religious', 'key_topics': ['greeting'], 'context_requirements': \"The query is a simple greeting without additional context related to any specific topic. Further information would be necessary to determine if there's a deeper intent.\"}\n",
      "content.delta parsed: {'classification': 'Non-Religious', 'key_topics': ['greeting'], 'context_requirements': \"The query is a simple greeting without additional context related to any specific topic. Further information would be necessary to determine if there's a deeper intent.\"}\n",
      "content.delta parsed: {'classification': 'Non-Religious', 'key_topics': ['greeting'], 'context_requirements': \"The query is a simple greeting without additional context related to any specific topic. Further information would be necessary to determine if there's a deeper intent.\", 'query_complexity': 'Low'}\n",
      "content.delta parsed: {'classification': 'Non-Religious', 'key_topics': ['greeting'], 'context_requirements': \"The query is a simple greeting without additional context related to any specific topic. Further information would be necessary to determine if there's a deeper intent.\", 'query_complexity': 'Low'}\n",
      "content.delta parsed: {'classification': 'Non-Religious', 'key_topics': ['greeting'], 'context_requirements': \"The query is a simple greeting without additional context related to any specific topic. Further information would be necessary to determine if there's a deeper intent.\", 'query_complexity': 'Low'}\n",
      "content.delta parsed: {'classification': 'Non-Religious', 'key_topics': ['greeting'], 'context_requirements': \"The query is a simple greeting without additional context related to any specific topic. Further information would be necessary to determine if there's a deeper intent.\", 'query_complexity': 'Low'}\n",
      "content.delta parsed: {'classification': 'Non-Religious', 'key_topics': ['greeting'], 'context_requirements': \"The query is a simple greeting without additional context related to any specific topic. Further information would be necessary to determine if there's a deeper intent.\", 'query_complexity': 'Low'}\n",
      "content.delta parsed: {'classification': 'Non-Religious', 'key_topics': ['greeting'], 'context_requirements': \"The query is a simple greeting without additional context related to any specific topic. Further information would be necessary to determine if there's a deeper intent.\", 'query_complexity': 'Low'}\n",
      "content.delta parsed: {'classification': 'Non-Religious', 'key_topics': ['greeting'], 'context_requirements': \"The query is a simple greeting without additional context related to any specific topic. Further information would be necessary to determine if there's a deeper intent.\", 'query_complexity': 'Low'}\n",
      "content.delta parsed: {'classification': 'Non-Religious', 'key_topics': ['greeting'], 'context_requirements': \"The query is a simple greeting without additional context related to any specific topic. Further information would be necessary to determine if there's a deeper intent.\", 'query_complexity': 'Low'}\n",
      "content.delta parsed: {'classification': 'Non-Religious', 'key_topics': ['greeting'], 'context_requirements': \"The query is a simple greeting without additional context related to any specific topic. Further information would be necessary to determine if there's a deeper intent.\", 'query_complexity': 'Low'}\n",
      "content.delta parsed: {'classification': 'Non-Religious', 'key_topics': ['greeting'], 'context_requirements': \"The query is a simple greeting without additional context related to any specific topic. Further information would be necessary to determine if there's a deeper intent.\", 'query_complexity': 'Low'}\n",
      "content.delta parsed: {'classification': 'Non-Religious', 'key_topics': ['greeting'], 'context_requirements': \"The query is a simple greeting without additional context related to any specific topic. Further information would be necessary to determine if there's a deeper intent.\", 'query_complexity': 'Low'}\n",
      "content.delta parsed: {'classification': 'Non-Religious', 'key_topics': ['greeting'], 'context_requirements': \"The query is a simple greeting without additional context related to any specific topic. Further information would be necessary to determine if there's a deeper intent.\", 'query_complexity': 'Low'}\n",
      "content.delta parsed: {'classification': 'Non-Religious', 'key_topics': ['greeting'], 'context_requirements': \"The query is a simple greeting without additional context related to any specific topic. Further information would be necessary to determine if there's a deeper intent.\", 'query_complexity': 'Low'}\n",
      "content.delta parsed: {'classification': 'Non-Religious', 'key_topics': ['greeting'], 'context_requirements': \"The query is a simple greeting without additional context related to any specific topic. Further information would be necessary to determine if there's a deeper intent.\", 'query_complexity': 'Low'}\n",
      "content.delta parsed: {'classification': 'Non-Religious', 'key_topics': ['greeting'], 'context_requirements': \"The query is a simple greeting without additional context related to any specific topic. Further information would be necessary to determine if there's a deeper intent.\", 'query_complexity': 'Low'}\n",
      "content.delta parsed: {'classification': 'Non-Religious', 'key_topics': ['greeting'], 'context_requirements': \"The query is a simple greeting without additional context related to any specific topic. Further information would be necessary to determine if there's a deeper intent.\", 'query_complexity': 'Low'}\n",
      "content.delta parsed: {'classification': 'Non-Religious', 'key_topics': ['greeting'], 'context_requirements': \"The query is a simple greeting without additional context related to any specific topic. Further information would be necessary to determine if there's a deeper intent.\", 'query_complexity': 'Low'}\n",
      "content.delta parsed: {'classification': 'Non-Religious', 'key_topics': ['greeting'], 'context_requirements': \"The query is a simple greeting without additional context related to any specific topic. Further information would be necessary to determine if there's a deeper intent.\", 'query_complexity': 'Low'}\n",
      "content.delta parsed: {'classification': 'Non-Religious', 'key_topics': ['greeting'], 'context_requirements': \"The query is a simple greeting without additional context related to any specific topic. Further information would be necessary to determine if there's a deeper intent.\", 'query_complexity': 'Low'}\n",
      "content.delta parsed: {'classification': 'Non-Religious', 'key_topics': ['greeting'], 'context_requirements': \"The query is a simple greeting without additional context related to any specific topic. Further information would be necessary to determine if there's a deeper intent.\", 'query_complexity': 'Low'}\n",
      "content.delta parsed: {'classification': 'Non-Religious', 'key_topics': ['greeting'], 'context_requirements': \"The query is a simple greeting without additional context related to any specific topic. Further information would be necessary to determine if there's a deeper intent.\", 'query_complexity': 'Low'}\n",
      "content.delta parsed: {'classification': 'Non-Religious', 'key_topics': ['greeting'], 'context_requirements': \"The query is a simple greeting without additional context related to any specific topic. Further information would be necessary to determine if there's a deeper intent.\", 'query_complexity': 'Low'}\n",
      "content.delta parsed: {'classification': 'Non-Religious', 'key_topics': ['greeting'], 'context_requirements': \"The query is a simple greeting without additional context related to any specific topic. Further information would be necessary to determine if there's a deeper intent.\", 'query_complexity': 'Low'}\n",
      "content.delta parsed: {'classification': 'Non-Religious', 'key_topics': ['greeting'], 'context_requirements': \"The query is a simple greeting without additional context related to any specific topic. Further information would be necessary to determine if there's a deeper intent.\", 'query_complexity': 'Low'}\n",
      "content.delta parsed: {'classification': 'Non-Religious', 'key_topics': ['greeting'], 'context_requirements': \"The query is a simple greeting without additional context related to any specific topic. Further information would be necessary to determine if there's a deeper intent.\", 'query_complexity': 'Low'}\n",
      "content.delta parsed: {'classification': 'Non-Religious', 'key_topics': ['greeting'], 'context_requirements': \"The query is a simple greeting without additional context related to any specific topic. Further information would be necessary to determine if there's a deeper intent.\", 'query_complexity': 'Low'}\n",
      "content.delta parsed: {'classification': 'Non-Religious', 'key_topics': ['greeting'], 'context_requirements': \"The query is a simple greeting without additional context related to any specific topic. Further information would be necessary to determine if there's a deeper intent.\", 'query_complexity': 'Low'}\n",
      "content.delta parsed: {'classification': 'Non-Religious', 'key_topics': ['greeting'], 'context_requirements': \"The query is a simple greeting without additional context related to any specific topic. Further information would be necessary to determine if there's a deeper intent.\", 'query_complexity': 'Low'}\n",
      "content.delta parsed: {'classification': 'Non-Religious', 'key_topics': ['greeting'], 'context_requirements': \"The query is a simple greeting without additional context related to any specific topic. Further information would be necessary to determine if there's a deeper intent.\", 'query_complexity': 'Low'}\n",
      "content.delta parsed: {'classification': 'Non-Religious', 'key_topics': ['greeting'], 'context_requirements': \"The query is a simple greeting without additional context related to any specific topic. Further information would be necessary to determine if there's a deeper intent.\", 'query_complexity': 'Low'}\n",
      "content.delta parsed: {'classification': 'Non-Religious', 'key_topics': ['greeting'], 'context_requirements': \"The query is a simple greeting without additional context related to any specific topic. Further information would be necessary to determine if there's a deeper intent.\", 'query_complexity': 'Low'}\n",
      "content.delta parsed: {'classification': 'Non-Religious', 'key_topics': ['greeting'], 'context_requirements': \"The query is a simple greeting without additional context related to any specific topic. Further information would be necessary to determine if there's a deeper intent.\", 'query_complexity': 'Low'}\n",
      "content.delta parsed: {'classification': 'Non-Religious', 'key_topics': ['greeting'], 'context_requirements': \"The query is a simple greeting without additional context related to any specific topic. Further information would be necessary to determine if there's a deeper intent.\", 'query_complexity': 'Low'}\n",
      "content.delta parsed: {'classification': 'Non-Religious', 'key_topics': ['greeting'], 'context_requirements': \"The query is a simple greeting without additional context related to any specific topic. Further information would be necessary to determine if there's a deeper intent.\", 'query_complexity': 'Low'}\n",
      "content.delta parsed: {'classification': 'Non-Religious', 'key_topics': ['greeting'], 'context_requirements': \"The query is a simple greeting without additional context related to any specific topic. Further information would be necessary to determine if there's a deeper intent.\", 'query_complexity': 'Low'}\n",
      "content.delta parsed: {'classification': 'Non-Religious', 'key_topics': ['greeting'], 'context_requirements': \"The query is a simple greeting without additional context related to any specific topic. Further information would be necessary to determine if there's a deeper intent.\", 'query_complexity': 'Low'}\n",
      "content.delta parsed: {'classification': 'Non-Religious', 'key_topics': ['greeting'], 'context_requirements': \"The query is a simple greeting without additional context related to any specific topic. Further information would be necessary to determine if there's a deeper intent.\", 'query_complexity': 'Low'}\n",
      "content.delta parsed: {'classification': 'Non-Religious', 'key_topics': ['greeting'], 'context_requirements': \"The query is a simple greeting without additional context related to any specific topic. Further information would be necessary to determine if there's a deeper intent.\", 'query_complexity': 'Low'}\n",
      "content.delta parsed: {'classification': 'Non-Religious', 'key_topics': ['greeting'], 'context_requirements': \"The query is a simple greeting without additional context related to any specific topic. Further information would be necessary to determine if there's a deeper intent.\", 'query_complexity': 'Low'}\n",
      "content.delta parsed: {'classification': 'Non-Religious', 'key_topics': ['greeting'], 'context_requirements': \"The query is a simple greeting without additional context related to any specific topic. Further information would be necessary to determine if there's a deeper intent.\", 'query_complexity': 'Low'}\n",
      "content.delta parsed: {'classification': 'Non-Religious', 'key_topics': ['greeting'], 'context_requirements': \"The query is a simple greeting without additional context related to any specific topic. Further information would be necessary to determine if there's a deeper intent.\", 'query_complexity': 'Low'}\n",
      "content.delta parsed: {'classification': 'Non-Religious', 'key_topics': ['greeting'], 'context_requirements': \"The query is a simple greeting without additional context related to any specific topic. Further information would be necessary to determine if there's a deeper intent.\", 'query_complexity': 'Low'}\n",
      "content.delta parsed: {'classification': 'Non-Religious', 'key_topics': ['greeting'], 'context_requirements': \"The query is a simple greeting without additional context related to any specific topic. Further information would be necessary to determine if there's a deeper intent.\", 'query_complexity': 'Low'}\n",
      "content.delta parsed: {'classification': 'Non-Religious', 'key_topics': ['greeting'], 'context_requirements': \"The query is a simple greeting without additional context related to any specific topic. Further information would be necessary to determine if there's a deeper intent.\", 'query_complexity': 'Low'}\n",
      "content.delta parsed: {'classification': 'Non-Religious', 'key_topics': ['greeting'], 'context_requirements': \"The query is a simple greeting without additional context related to any specific topic. Further information would be necessary to determine if there's a deeper intent.\", 'query_complexity': 'Low'}\n",
      "content.delta parsed: {'classification': 'Non-Religious', 'key_topics': ['greeting'], 'context_requirements': \"The query is a simple greeting without additional context related to any specific topic. Further information would be necessary to determine if there's a deeper intent.\", 'query_complexity': 'Low'}\n",
      "content.delta parsed: {'classification': 'Non-Religious', 'key_topics': ['greeting'], 'context_requirements': \"The query is a simple greeting without additional context related to any specific topic. Further information would be necessary to determine if there's a deeper intent.\", 'query_complexity': 'Low', 'reasoning': \"The user query 'Helloo!!' is a casual greeting that does not reference or imply any religious context. Therefore, it is classified as non-religious with a basic context focused on greetings.\"}\n",
      "content.delta parsed: {'classification': 'Non-Religious', 'key_topics': ['greeting'], 'context_requirements': \"The query is a simple greeting without additional context related to any specific topic. Further information would be necessary to determine if there's a deeper intent.\", 'query_complexity': 'Low', 'reasoning': \"The user query 'Helloo!!' is a casual greeting that does not reference or imply any religious context. Therefore, it is classified as non-religious with a basic context focused on greetings.\"}\n"
     ]
    }
   ],
   "source": [
    "with client.beta.chat.completions.stream(\n",
    "    model=MODEL_NAME,\n",
    "    messages=chat_template,\n",
    "    response_format=AnalyzerOutput,\n",
    ") as stream:\n",
    "    for event in stream:\n",
    "        if event.type == \"content.delta\":\n",
    "            if event.parsed is not None:\n",
    "                # Print the parsed data as JSON\n",
    "                print(\"content.delta parsed:\", event.parsed)\n",
    "            elif event.type == \"content.done\":\n",
    "                print(\"content.done\")\n",
    "            elif event.type == \"error\":\n",
    "                print(\"Error in stream:\", event.error)\n",
    "\n",
    "final_completion = stream.get_final_completion()"
   ]
  },
  {
   "cell_type": "code",
   "execution_count": 108,
   "id": "87793684-294e-4173-a0b1-1694c6960b1e",
   "metadata": {},
   "outputs": [
    {
     "data": {
      "text/plain": [
       "ParsedChatCompletion[AnalyzerOutput](id='chatcmpl-BEkHTAgxQaDt3kKJtST4gIvZZlEpt', choices=[ParsedChoice[AnalyzerOutput](finish_reason='stop', index=0, logprobs=None, message=ParsedChatCompletionMessage[AnalyzerOutput](content='{\\n  \"classification\": \"Non-Religious\",\\n  \"key_topics\": [\"greeting\"],\\n  \"context_requirements\": \"The query is a simple greeting without additional context related to any specific topic. Further information would be necessary to determine if there\\'s a deeper intent.\",\\n  \"query_complexity\": \"Low\",\\n  \"reasoning\": \"The user query \\'Helloo!!\\' is a casual greeting that does not reference or imply any religious context. Therefore, it is classified as non-religious with a basic context focused on greetings.\"\\n}', refusal=None, role='assistant', audio=None, function_call=None, tool_calls=None, parsed=AnalyzerOutput(classification='Non-Religious', key_topics=['greeting'], context_requirements=\"The query is a simple greeting without additional context related to any specific topic. Further information would be necessary to determine if there's a deeper intent.\", query_complexity='Low', reasoning=\"The user query 'Helloo!!' is a casual greeting that does not reference or imply any religious context. Therefore, it is classified as non-religious with a basic context focused on greetings.\")))], created=1742854195, model='o3-mini-2025-01-31', object='chat.completion', service_tier='default', system_fingerprint='fp_617f206dd9', usage=None)"
      ]
     },
     "execution_count": 108,
     "metadata": {},
     "output_type": "execute_result"
    }
   ],
   "source": [
    "final_completion"
   ]
  },
  {
   "cell_type": "code",
   "execution_count": 110,
   "id": "4d618427-c934-468a-8ccd-687e36164968",
   "metadata": {},
   "outputs": [
    {
     "data": {
      "text/plain": [
       "AnalyzerOutput(classification='Non-Religious', key_topics=['greeting'], context_requirements=\"The query is a simple greeting without additional context related to any specific topic. Further information would be necessary to determine if there's a deeper intent.\", query_complexity='Low', reasoning=\"The user query 'Helloo!!' is a casual greeting that does not reference or imply any religious context. Therefore, it is classified as non-religious with a basic context focused on greetings.\")"
      ]
     },
     "execution_count": 110,
     "metadata": {},
     "output_type": "execute_result"
    }
   ],
   "source": [
    "final_completion.choices[0].message.parsed"
   ]
  },
  {
   "cell_type": "code",
   "execution_count": 113,
   "id": "d6d0b7c6-2d7a-4132-8802-ae8c9cc3bdec",
   "metadata": {},
   "outputs": [
    {
     "name": "stdout",
     "output_type": "stream",
     "text": [
      "FunctionToolCallArgumentsDeltaEvent(type='tool_calls.function.arguments.delta', name='get_weather', index=0, arguments='', parsed_arguments=None, arguments_delta='')\n",
      "FunctionToolCallArgumentsDeltaEvent(type='tool_calls.function.arguments.delta', name='get_weather', index=0, arguments='{\"ci', parsed_arguments={}, arguments_delta='{\"ci')\n",
      "FunctionToolCallArgumentsDeltaEvent(type='tool_calls.function.arguments.delta', name='get_weather', index=0, arguments='{\"city\": ', parsed_arguments={}, arguments_delta='ty\": ')\n",
      "FunctionToolCallArgumentsDeltaEvent(type='tool_calls.function.arguments.delta', name='get_weather', index=0, arguments='{\"city\": \"San F', parsed_arguments={}, arguments_delta='\"San F')\n",
      "FunctionToolCallArgumentsDeltaEvent(type='tool_calls.function.arguments.delta', name='get_weather', index=0, arguments='{\"city\": \"San Franc', parsed_arguments={}, arguments_delta='ranc')\n",
      "FunctionToolCallArgumentsDeltaEvent(type='tool_calls.function.arguments.delta', name='get_weather', index=0, arguments='{\"city\": \"San Francisco\"', parsed_arguments={'city': 'San Francisco'}, arguments_delta='isco\"')\n",
      "FunctionToolCallArgumentsDeltaEvent(type='tool_calls.function.arguments.delta', name='get_weather', index=0, arguments='{\"city\": \"San Francisco\", \"cou', parsed_arguments={'city': 'San Francisco'}, arguments_delta=', \"cou')\n",
      "FunctionToolCallArgumentsDeltaEvent(type='tool_calls.function.arguments.delta', name='get_weather', index=0, arguments='{\"city\": \"San Francisco\", \"country', parsed_arguments={'city': 'San Francisco'}, arguments_delta='ntry')\n",
      "FunctionToolCallArgumentsDeltaEvent(type='tool_calls.function.arguments.delta', name='get_weather', index=0, arguments='{\"city\": \"San Francisco\", \"country\": \"U', parsed_arguments={'city': 'San Francisco'}, arguments_delta='\": \"U')\n",
      "FunctionToolCallArgumentsDeltaEvent(type='tool_calls.function.arguments.delta', name='get_weather', index=0, arguments='{\"city\": \"San Francisco\", \"country\": \"USA\"}', parsed_arguments={'city': 'San Francisco', 'country': 'USA'}, arguments_delta='SA\"}')\n",
      "FunctionToolCallArgumentsDeltaEvent(type='tool_calls.function.arguments.delta', name='get_weather', index=1, arguments='', parsed_arguments=None, arguments_delta='')\n",
      "FunctionToolCallArgumentsDoneEvent(type='tool_calls.function.arguments.done', name='get_weather', index=0, arguments='{\"city\": \"San Francisco\", \"country\": \"USA\"}', parsed_arguments=GetWeather(city='San Francisco', country='USA'))\n",
      "FunctionToolCallArgumentsDeltaEvent(type='tool_calls.function.arguments.delta', name='get_weather', index=1, arguments='{\"ci', parsed_arguments={}, arguments_delta='{\"ci')\n",
      "FunctionToolCallArgumentsDeltaEvent(type='tool_calls.function.arguments.delta', name='get_weather', index=1, arguments='{\"city\": ', parsed_arguments={}, arguments_delta='ty\": ')\n",
      "FunctionToolCallArgumentsDeltaEvent(type='tool_calls.function.arguments.delta', name='get_weather', index=1, arguments='{\"city\": \"Londo', parsed_arguments={}, arguments_delta='\"Londo')\n",
      "FunctionToolCallArgumentsDeltaEvent(type='tool_calls.function.arguments.delta', name='get_weather', index=1, arguments='{\"city\": \"London\", ', parsed_arguments={'city': 'London'}, arguments_delta='n\", ')\n",
      "FunctionToolCallArgumentsDeltaEvent(type='tool_calls.function.arguments.delta', name='get_weather', index=1, arguments='{\"city\": \"London\", \"coun', parsed_arguments={'city': 'London'}, arguments_delta='\"coun')\n",
      "FunctionToolCallArgumentsDeltaEvent(type='tool_calls.function.arguments.delta', name='get_weather', index=1, arguments='{\"city\": \"London\", \"country\": ', parsed_arguments={'city': 'London'}, arguments_delta='try\": ')\n",
      "FunctionToolCallArgumentsDeltaEvent(type='tool_calls.function.arguments.delta', name='get_weather', index=1, arguments='{\"city\": \"London\", \"country\": \"UK\"', parsed_arguments={'city': 'London', 'country': 'UK'}, arguments_delta='\"UK\"')\n",
      "FunctionToolCallArgumentsDeltaEvent(type='tool_calls.function.arguments.delta', name='get_weather', index=1, arguments='{\"city\": \"London\", \"country\": \"UK\"}', parsed_arguments={'city': 'London', 'country': 'UK'}, arguments_delta='}')\n",
      "FunctionToolCallArgumentsDoneEvent(type='tool_calls.function.arguments.done', name='get_weather', index=1, arguments='{\"city\": \"London\", \"country\": \"UK\"}', parsed_arguments=GetWeather(city='London', country='UK'))\n"
     ]
    }
   ],
   "source": [
    "class GetWeather(BaseModel):\n",
    "    city: str\n",
    "    country: str\n",
    "\n",
    "client = OpenAI()\n",
    "\n",
    "with client.beta.chat.completions.stream(\n",
    "    model=\"gpt-4o\",\n",
    "    messages=[\n",
    "        {\n",
    "            \"role\": \"user\",\n",
    "            \"content\": \"What's the weather like in SF and London?\",\n",
    "        },\n",
    "    ],\n",
    "    tools=[\n",
    "        openai.pydantic_function_tool(GetWeather, name=\"get_weather\"),\n",
    "    ],\n",
    "    parallel_tool_calls=True,\n",
    ") as stream:\n",
    "    for event in stream:\n",
    "        if event.type == \"tool_calls.function.arguments.delta\" or event.type == \"tool_calls.function.arguments.done\":\n",
    "            print(event)\n",
    "\n",
    "# print(stream.get_final_completion())"
   ]
  },
  {
   "cell_type": "code",
   "execution_count": 114,
   "id": "b1211fd0-45e1-47d8-89af-9187cfba421e",
   "metadata": {},
   "outputs": [
    {
     "data": {
      "text/plain": [
       "ParsedChatCompletion[NoneType](id='chatcmpl-BEkNyuTsSGiDjJ5deIB5AVxQmVPDZ', choices=[ParsedChoice[NoneType](finish_reason='tool_calls', index=0, logprobs=None, message=ParsedChatCompletionMessage[NoneType](content=None, refusal=None, role='assistant', audio=None, function_call=None, tool_calls=[ParsedFunctionToolCall(id='call_0mOyIlPaGumVDzjF41CGiUBP', function=ParsedFunction(arguments='{\"city\": \"San Francisco\", \"country\": \"USA\"}', name='get_weather', parsed_arguments=GetWeather(city='San Francisco', country='USA')), type='function', index=0), ParsedFunctionToolCall(id='call_sxEsxJW1dJDBpPx0gbaKca1D', function=ParsedFunction(arguments='{\"city\": \"London\", \"country\": \"UK\"}', name='get_weather', parsed_arguments=GetWeather(city='London', country='UK')), type='function', index=1)], parsed=None))], created=1742854598, model='gpt-4o-2024-08-06', object='chat.completion', service_tier='default', system_fingerprint='fp_c1e1ac6736', usage=None)"
      ]
     },
     "execution_count": 114,
     "metadata": {},
     "output_type": "execute_result"
    }
   ],
   "source": [
    "stream.get_final_completion()"
   ]
  },
  {
   "cell_type": "code",
   "execution_count": null,
   "id": "2c86328c-3b74-44d5-90fc-998f8ea8e581",
   "metadata": {},
   "outputs": [],
   "source": []
  },
  {
   "cell_type": "markdown",
   "id": "618d1e56-5f44-44f9-be10-163b705fb49d",
   "metadata": {},
   "source": [
    "## Langchain LLM Chains"
   ]
  },
  {
   "cell_type": "markdown",
   "id": "9815d4fd-cf6a-42c5-a725-5e44588c9776",
   "metadata": {
    "jp-MarkdownHeadingCollapsed": true
   },
   "source": [
    "### Structure Outputs"
   ]
  },
  {
   "cell_type": "code",
   "execution_count": 80,
   "id": "0d8e3be1-c962-4c26-94da-b17f9614b798",
   "metadata": {},
   "outputs": [],
   "source": [
    "from pydantic import BaseModel, Field\n",
    "from typing import List, Literal"
   ]
  },
  {
   "cell_type": "code",
   "execution_count": 81,
   "id": "4fe51cb6-2a8b-4674-b2fb-70ae9485e981",
   "metadata": {},
   "outputs": [],
   "source": [
    "class AnalyzerOutput(BaseModel):\n",
    "    classification: Literal[\"Religious\", \"Non-Religious\"] = Field(..., description=\"Either 'Religious' or 'Non-Religious'\")\n",
    "    key_topics: List[str] = Field(..., description=\"List of key topics/areas related to the user's question (e.g., theology, jesus, humility, virtues)\",)\n",
    "    context_requirements: str = Field(..., description=\"A clear explanation of the query's context needs\")\n",
    "    query_complexity: Literal[\"Low\", \"Medium\", \"High\"] = Field(..., description=\"'Low', 'Medium', or 'High' complexity\")\n",
    "    reasoning: str = Field(..., description=\"The Chain of Thought that has been done in order to analyze the user query\")"
   ]
  },
  {
   "cell_type": "markdown",
   "id": "5ca86bac-a959-4c12-adb3-b69a6ca2eafe",
   "metadata": {},
   "source": [
    "### Analyzer Agent"
   ]
  },
  {
   "cell_type": "code",
   "execution_count": 78,
   "id": "eb9ad5ee-10f3-4fe6-8dd7-343627d0bbc1",
   "metadata": {},
   "outputs": [],
   "source": [
    "from langchain.prompts import ChatPromptTemplate\n",
    "from langchain_openai import ChatOpenAI"
   ]
  },
  {
   "cell_type": "code",
   "execution_count": 70,
   "id": "384cd3ee-af74-4dd9-a466-9535575be0c0",
   "metadata": {},
   "outputs": [],
   "source": [
    "analyzer_prompt = ChatPromptTemplate.from_messages(\n",
    "        [\n",
    "            (\n",
    "                \"system\",\n",
    "                \"You are an AI assistant that classifies user queries as either religious or non-religious and extracts key topics.\",\n",
    "            ),\n",
    "            (\n",
    "                \"human\",\n",
    "                \"Classify the following query and extract key concepts:\\n\\nQuery: {query}\",\n",
    "            ),\n",
    "        ]\n",
    "    )"
   ]
  },
  {
   "cell_type": "code",
   "execution_count": 69,
   "id": "d80e9f3f-db3c-4dae-9fce-5e532be48d22",
   "metadata": {},
   "outputs": [],
   "source": [
    "analyzer_llm = ChatOpenAI(model=\"o3-mini\").with_structured_output(AnalyzerOutput)"
   ]
  },
  {
   "cell_type": "code",
   "execution_count": 71,
   "id": "823d487f-ec8d-41c8-8132-ac5a8515bb83",
   "metadata": {},
   "outputs": [],
   "source": [
    "analyzer_chain = analyzer_prompt | analyzer_llm"
   ]
  },
  {
   "cell_type": "code",
   "execution_count": 72,
   "id": "a90cc8ce-3ffe-4c4b-be51-162eecb4eb1c",
   "metadata": {},
   "outputs": [
    {
     "data": {
      "text/plain": [
       "AnalyzerOutput(classification='Non-Religious', key_topics=['greeting'], context_requirements='No additional context is provided beyond a basic greeting.', query_complexity='Low', reasoning=\"The query 'Hello' is a simple greeting without any religious connotations. It is non-religious in nature and does not contain hints of theological or religious content, so it is classified as Non-Religious with key focus on greeting.\")"
      ]
     },
     "execution_count": 72,
     "metadata": {},
     "output_type": "execute_result"
    }
   ],
   "source": [
    "text = analyzer_chain.invoke('Hello')\n",
    "text"
   ]
  },
  {
   "cell_type": "code",
   "execution_count": 73,
   "id": "2d575e64-63b6-45cd-b4b3-70e2a78211be",
   "metadata": {},
   "outputs": [
    {
     "name": "stdout",
     "output_type": "stream",
     "text": [
      "Non-Religious\n",
      "No additional context is provided beyond a basic greeting.\n",
      "['greeting']\n",
      "Low\n",
      "The query 'Hello' is a simple greeting without any religious connotations. It is non-religious in nature and does not contain hints of theological or religious content, so it is classified as Non-Religious with key focus on greeting.\n"
     ]
    }
   ],
   "source": [
    "print(text.classification)\n",
    "print(text.context_requirements)\n",
    "print(text.key_topics)\n",
    "print(text.query_complexity)\n",
    "print(text.reasoning)"
   ]
  },
  {
   "cell_type": "code",
   "execution_count": 74,
   "id": "db5bc60a-d440-4e68-a981-260438ca96d9",
   "metadata": {},
   "outputs": [
    {
     "data": {
      "text/plain": [
       "__main__.AnalyzerOutput"
      ]
     },
     "execution_count": 74,
     "metadata": {},
     "output_type": "execute_result"
    }
   ],
   "source": [
    "type(text)"
   ]
  },
  {
   "cell_type": "code",
   "execution_count": 77,
   "id": "af5453d9-f5b2-4811-91a7-cb7c6ba9e0df",
   "metadata": {},
   "outputs": [
    {
     "name": "stdout",
     "output_type": "stream",
     "text": [
      "The query 'Hello' is a simple greeting without any religious connotations. It is non-religious in nature and does not contain hints of theological or religious content, so it is classified as Non-Religious with key focus on greeting.\n",
      "\n",
      "The analysis of the user query shows that the question is Non-Religious and with a Low complexity. Specifically, the analysis said the following: No additional context is provided beyond a basic greeting. Key topics: greeting.\n"
     ]
    }
   ],
   "source": [
    "analysis_report = (\n",
    "    f\"{text.reasoning}\\n\\n\"\n",
    "    f\"The analysis of the user query shows that the question is {text.classification} \"\n",
    "    f\"and with a {text.query_complexity} complexity. Specifically, the analysis said the following: \"\n",
    "    f\"{text.context_requirements} Key topics: {', '.join(text.key_topics)}.\"\n",
    ")\n",
    "print(analysis_report)"
   ]
  },
  {
   "cell_type": "markdown",
   "id": "ace20286-ad32-4895-b05e-80bf3b81cb8c",
   "metadata": {
    "jp-MarkdownHeadingCollapsed": true
   },
   "source": [
    "### Summarizer Agent"
   ]
  },
  {
   "cell_type": "code",
   "execution_count": null,
   "id": "b8bee014-770b-4223-b52d-eb05eb813c63",
   "metadata": {},
   "outputs": [],
   "source": []
  },
  {
   "cell_type": "code",
   "execution_count": null,
   "id": "17044902-b301-4fe6-bbb0-aa93d7689ae5",
   "metadata": {},
   "outputs": [],
   "source": []
  },
  {
   "cell_type": "code",
   "execution_count": null,
   "id": "e4d803c7-862a-4063-97ee-eb61c956964c",
   "metadata": {},
   "outputs": [],
   "source": []
  },
  {
   "cell_type": "code",
   "execution_count": null,
   "id": "4e9f6c31-6dca-47d1-b54d-130cfcd01643",
   "metadata": {},
   "outputs": [],
   "source": []
  },
  {
   "cell_type": "code",
   "execution_count": null,
   "id": "f1a42507-8584-466a-8be5-8d5f1e3c76b5",
   "metadata": {},
   "outputs": [],
   "source": []
  },
  {
   "cell_type": "code",
   "execution_count": null,
   "id": "74bd349e-53d1-4794-9321-818c9f0c2d23",
   "metadata": {},
   "outputs": [],
   "source": []
  },
  {
   "cell_type": "code",
   "execution_count": null,
   "id": "97a431b1-8ffd-4f81-b8ef-84dc13115e19",
   "metadata": {},
   "outputs": [],
   "source": []
  },
  {
   "cell_type": "code",
   "execution_count": null,
   "id": "49910ec4-52f9-422d-83a9-944f9aa7cc8b",
   "metadata": {},
   "outputs": [],
   "source": []
  }
 ],
 "metadata": {
  "kernelspec": {
   "display_name": "Python 3 (ipykernel)",
   "language": "python",
   "name": "python3"
  },
  "language_info": {
   "codemirror_mode": {
    "name": "ipython",
    "version": 3
   },
   "file_extension": ".py",
   "mimetype": "text/x-python",
   "name": "python",
   "nbconvert_exporter": "python",
   "pygments_lexer": "ipython3",
   "version": "3.10.12"
  }
 },
 "nbformat": 4,
 "nbformat_minor": 5
}
