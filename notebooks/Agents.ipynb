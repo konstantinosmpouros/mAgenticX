{
 "cells": [
  {
   "cell_type": "markdown",
   "id": "f594c1ba-ca36-46e8-8789-8df62851f3c7",
   "metadata": {},
   "source": [
    "# OrthodoxAI - Agents"
   ]
  },
  {
   "cell_type": "markdown",
   "id": "bacd36b1-71ca-4bd8-9e69-99206f25b0e4",
   "metadata": {},
   "source": [
    "> Konstantinos Mpouros <br>\n",
    "> Github: https://github.com/konstantinosmpouros?tab=repositories<br>\n",
    "> Year: 2025"
   ]
  },
  {
   "cell_type": "markdown",
   "id": "4a8e8053-ccff-461b-9a96-8f44526620b1",
   "metadata": {},
   "source": [
    "## About the Project"
   ]
  },
  {
   "cell_type": "markdown",
   "id": "8d1b5c23-4989-4a01-a419-bfb4628abcba",
   "metadata": {},
   "source": [
    "This notebook is dedicated to prototyping and testing the behavior of individual and collaborative agents within the **OrthodoxAI** multi-agent system.\n",
    "\n",
    "It serves as a sandbox to:\n",
    "\n",
    "- Define agent roles (e.g., Retriever, Reflection, Generator)\n",
    "- Simulate agent communication structure patters\n",
    "- Experiment with routing logic and agent chaining (without LangGraph)\n",
    "- Test prompt templates and output formatting for each agent\n",
    "- Evaluate performance and consistency across multiple LLM-backed tasks\n",
    "\n",
    "This notebook is used for isolated debugging and experimentation before integrating agents into the main production pipeline."
   ]
  },
  {
   "cell_type": "markdown",
   "id": "d713835e-2b12-4806-b6c9-e771fed71705",
   "metadata": {},
   "source": [
    "## Libraries"
   ]
  },
  {
   "cell_type": "code",
   "execution_count": 1,
   "id": "9f3edff7-c5f4-475b-93fa-94ab5882f936",
   "metadata": {},
   "outputs": [],
   "source": [
    "# Load the API Keys\n",
    "import os\n",
    "from dotenv import load_dotenv, find_dotenv\n",
    "dotenv_path = find_dotenv()\n",
    "_ = load_dotenv(dotenv_path)"
   ]
  },
  {
   "cell_type": "markdown",
   "id": "03b8e99c-6ea1-4992-a245-a1aae18bc630",
   "metadata": {
    "jp-MarkdownHeadingCollapsed": true
   },
   "source": [
    "## OpenAI APIs"
   ]
  },
  {
   "cell_type": "markdown",
   "id": "1f9e6840-8369-42bb-b8d5-d898ef9bbfe7",
   "metadata": {
    "jp-MarkdownHeadingCollapsed": true
   },
   "source": [
    "### Client Setup"
   ]
  },
  {
   "cell_type": "markdown",
   "id": "7bbd1076-2f94-49d4-8e08-ccbe70da8fd4",
   "metadata": {},
   "source": [
    "* Import libraries to chat with OpenAI"
   ]
  },
  {
   "cell_type": "code",
   "execution_count": 2,
   "id": "551f9895-c065-4ddf-8390-a248bac20927",
   "metadata": {},
   "outputs": [],
   "source": [
    "from pydantic import BaseModel, Field\n",
    "from typing import List, Literal\n",
    "\n",
    "import openai\n",
    "from openai import OpenAI"
   ]
  },
  {
   "cell_type": "markdown",
   "id": "7ccc06a6-cd92-42b1-a0c3-93a71003f565",
   "metadata": {},
   "source": [
    "* Define a Structured Output template"
   ]
  },
  {
   "cell_type": "code",
   "execution_count": 3,
   "id": "f85a9871-35f4-44d1-b215-7618bd4d86ff",
   "metadata": {},
   "outputs": [],
   "source": [
    "class AnalyzerOutput(BaseModel):\n",
    "    classification: Literal[\"Religious\", \"Non-Religious\"] = Field(..., description=\"Either 'Religious' or 'Non-Religious'\")\n",
    "    key_topics: List[str] = Field(..., description=\"List of key topics/areas related to the user's question (e.g., theology, jesus, humility, virtues)\",)\n",
    "    context_requirements: str = Field(..., description=\"A clear explanation of the query's context needs\")\n",
    "    query_complexity: Literal[\"Low\", \"Medium\", \"High\"] = Field(..., description=\"'Low', 'Medium', or 'High' complexity\")\n",
    "    reasoning: str = Field(..., description=\"The Chain of Thought that has been done in order to analyze the user query\")"
   ]
  },
  {
   "cell_type": "markdown",
   "id": "05ecee3e-adc7-49a8-b31e-b4a70ae0d995",
   "metadata": {},
   "source": [
    "* Initialize configs"
   ]
  },
  {
   "cell_type": "code",
   "execution_count": 4,
   "id": "f01b20ef-1bac-48d3-87b7-ba82518909ba",
   "metadata": {},
   "outputs": [],
   "source": [
    "MODEL_NAME = 'o3-mini'\n",
    "\n",
    "client = OpenAI()\n",
    "\n",
    "chat_template = [\n",
    "    {\"role\": \"system\", \"content\": \"You are an AI assistant that classifies user queries as either religious or non-religious and extracts key topics.\"},\n",
    "    {\"role\": \"user\", \"content\": \"Helloo!!\"}\n",
    "]"
   ]
  },
  {
   "cell_type": "markdown",
   "id": "65df3561-9013-418f-8a31-448bfc45bb4a",
   "metadata": {
    "jp-MarkdownHeadingCollapsed": true
   },
   "source": [
    "### Simple response"
   ]
  },
  {
   "cell_type": "code",
   "execution_count": 5,
   "id": "af41ee06-48d0-47dc-b860-4463cd0773e6",
   "metadata": {},
   "outputs": [
    {
     "name": "stdout",
     "output_type": "stream",
     "text": [
      "Classification: Non-religious\n",
      "\n",
      "Key Topics:\n",
      "• Greeting/Casual conversation\n"
     ]
    }
   ],
   "source": [
    "response = client.chat.completions.create(\n",
    "    model=MODEL_NAME, \n",
    "    messages=chat_template,\n",
    ")\n",
    "\n",
    "print(response.choices[0].message.content)"
   ]
  },
  {
   "cell_type": "code",
   "execution_count": 6,
   "id": "8b1e8da6-c71b-4d70-9f65-c5cdc649abf0",
   "metadata": {},
   "outputs": [
    {
     "name": "stdout",
     "output_type": "stream",
     "text": [
      "Classification: Non-religious\n",
      "\n",
      "Key topics: Greeting, informal salutation\n",
      "\n",
      "The message appears to be a friendly greeting without any religious context.\n"
     ]
    }
   ],
   "source": [
    "response = client.responses.create(\n",
    "    model=MODEL_NAME,\n",
    "    input=chat_template\n",
    ")\n",
    "\n",
    "print(response.output_text)"
   ]
  },
  {
   "cell_type": "markdown",
   "id": "b5f4541d-fe4c-409a-b7d1-372ed5cdfd8a",
   "metadata": {
    "jp-MarkdownHeadingCollapsed": true
   },
   "source": [
    "### Streaming response"
   ]
  },
  {
   "cell_type": "code",
   "execution_count": 7,
   "id": "a3f5344f-dc43-44ce-97ce-fb44b1ff8307",
   "metadata": {},
   "outputs": [
    {
     "name": "stdout",
     "output_type": "stream",
     "text": [
      "Classification: Non-religious\n",
      "\n",
      "Key Topics: Greeting\n",
      "\n",
      "The message appears to be a friendly, informal greeting with no religious content."
     ]
    }
   ],
   "source": [
    "response = \"\"\n",
    "\n",
    "for chunk in client.chat.completions.create(\n",
    "    model=MODEL_NAME,\n",
    "    messages=chat_template,\n",
    "    stream=True\n",
    "):\n",
    "    \n",
    "    if not chunk.choices:\n",
    "        continue  # Just a safeguard\n",
    "    \n",
    "    # The partial text is in 'delta.content'\n",
    "    chunk_text = chunk.choices[0].delta.content\n",
    "    if chunk_text is None:\n",
    "        continue\n",
    "\n",
    "    response += chunk_text\n",
    "    print(chunk_text, end=\"\", flush=True)"
   ]
  },
  {
   "cell_type": "code",
   "execution_count": 8,
   "id": "115f69cc-b56e-4b7b-a606-6e35befe5496",
   "metadata": {},
   "outputs": [
    {
     "name": "stdout",
     "output_type": "stream",
     "text": [
      "Classification: Non-religious\n",
      "\n",
      "Key Topics: Greeting, informal salutation."
     ]
    }
   ],
   "source": [
    "stream = client.responses.create(\n",
    "    model=MODEL_NAME,\n",
    "    input=chat_template,\n",
    "    stream=True\n",
    ")\n",
    "\n",
    "for event in stream:\n",
    "    if event.type == 'response.refusal.delta':\n",
    "        print(event.delta, end=\"\")\n",
    "    elif event.type == 'response.output_text.delta':\n",
    "        print(event.delta, end=\"\")\n",
    "    elif event.type == 'response.error':\n",
    "        print(event.error, end=\"\")\n",
    "    elif event.type == 'response.completed':\n",
    "        response = event.response.output"
   ]
  },
  {
   "cell_type": "code",
   "execution_count": 9,
   "id": "58ed8558-2b84-4dad-a86a-e722b8369fed",
   "metadata": {},
   "outputs": [
    {
     "data": {
      "text/plain": [
       "[ResponseReasoningItem(id='rs_67eefa37c2048191b2860f006b1d9261003da8076e6768b6', summary=[], type='reasoning', status=None),\n",
       " ResponseOutputMessage(id='msg_67eefa381b208191931e99bd52493d89003da8076e6768b6', content=[ResponseOutputText(annotations=[], text='Classification: Non-religious\\n\\nKey Topics: Greeting, informal salutation.', type='output_text')], role='assistant', status='completed', type='message')]"
      ]
     },
     "execution_count": 9,
     "metadata": {},
     "output_type": "execute_result"
    }
   ],
   "source": [
    "response"
   ]
  },
  {
   "cell_type": "markdown",
   "id": "1654bc96-f254-4c71-a12e-e3e1600e049d",
   "metadata": {
    "jp-MarkdownHeadingCollapsed": true
   },
   "source": [
    "### Structured response"
   ]
  },
  {
   "cell_type": "code",
   "execution_count": 10,
   "id": "d8847254-15cd-4ee6-84f8-8b05c16e8094",
   "metadata": {},
   "outputs": [],
   "source": [
    "response = client.beta.chat.completions.parse(\n",
    "    model=MODEL_NAME,\n",
    "    messages=chat_template,\n",
    "    response_format=AnalyzerOutput\n",
    ")\n",
    "\n",
    "structured_object = response.choices[0].message.parsed"
   ]
  },
  {
   "cell_type": "code",
   "execution_count": 11,
   "id": "d149aba4-67ce-4565-9e6a-e14c2d80bf7c",
   "metadata": {},
   "outputs": [
    {
     "data": {
      "text/plain": [
       "AnalyzerOutput(classification='Non-Religious', key_topics=['greeting'], context_requirements='No complexity is involved and there is no religious context present in the query. The query is simply a casual greeting.', query_complexity='Low', reasoning=\"The query 'Helloo!!' is a casual greeting with no mention of religious topics, symbols, or language. There is no indication of the conversation touching on religious themes, hence it is classified as non-religious and of low complexity.\")"
      ]
     },
     "execution_count": 11,
     "metadata": {},
     "output_type": "execute_result"
    }
   ],
   "source": [
    "structured_object"
   ]
  },
  {
   "cell_type": "code",
   "execution_count": 12,
   "id": "da3d419d-77cf-4978-b991-2f1822d5dd07",
   "metadata": {},
   "outputs": [
    {
     "data": {
      "text/plain": [
       "'{\\n  \"classification\": \"Non-Religious\",\\n  \"key_topics\": [\\n    \"greeting\"\\n  ],\\n  \"context_requirements\": \"No complexity is involved and there is no religious context present in the query. The query is simply a casual greeting.\",\\n  \"query_complexity\": \"Low\",\\n  \"reasoning\": \"The query \\'Helloo!!\\' is a casual greeting with no mention of religious topics, symbols, or language. There is no indication of the conversation touching on religious themes, hence it is classified as non-religious and of low complexity.\"\\n}'"
      ]
     },
     "execution_count": 12,
     "metadata": {},
     "output_type": "execute_result"
    }
   ],
   "source": [
    "response.choices[0].message.content"
   ]
  },
  {
   "cell_type": "code",
   "execution_count": 13,
   "id": "fab4decd-6228-4d30-bb82-5a68537989c7",
   "metadata": {},
   "outputs": [
    {
     "name": "stdout",
     "output_type": "stream",
     "text": [
      "None\n",
      "None\n",
      "assistant\n",
      "None\n"
     ]
    }
   ],
   "source": [
    "print(response.choices[0].message.function_call)\n",
    "print(response.choices[0].message.tool_calls)\n",
    "print(response.choices[0].message.role)\n",
    "print(response.choices[0].message.refusal)"
   ]
  },
  {
   "cell_type": "code",
   "execution_count": 14,
   "id": "177fa1c9-4953-4dab-a5ac-a80a4d865546",
   "metadata": {},
   "outputs": [
    {
     "name": "stderr",
     "output_type": "stream",
     "text": [
      "/tmp/ipykernel_4511/789635851.py:1: PydanticDeprecatedSince20: The `schema` method is deprecated; use `model_json_schema` instead. Deprecated in Pydantic V2.0 to be removed in V3.0. See Pydantic V2 Migration Guide at https://errors.pydantic.dev/2.11/migration/\n",
      "  schema_dict = AnalyzerOutput.schema()\n"
     ]
    }
   ],
   "source": [
    "schema_dict = AnalyzerOutput.schema()\n",
    "schema_dict[\"additionalProperties\"] = False\n",
    "text_dict = {\n",
    "    \"format\": {\n",
    "        \"type\": \"json_schema\",\n",
    "        \"name\": \"MyAnalyzerOutput\",  # arbitrary name\n",
    "        \"strict\": True,\n",
    "        \"schema\": schema_dict\n",
    "    }\n",
    "}\n",
    "\n",
    "response = client.responses.create(\n",
    "    model=MODEL_NAME,\n",
    "    input=chat_template,\n",
    "    text=text_dict\n",
    ")"
   ]
  },
  {
   "cell_type": "code",
   "execution_count": 15,
   "id": "653f33e6-dfb9-415f-a903-42979b5e6d61",
   "metadata": {},
   "outputs": [
    {
     "data": {
      "text/plain": [
       "Response(id='resp_67eefa3c1c608191a232cc4cc3cc9aa505b562a8227eead7', created_at=1743714876.0, error=None, incomplete_details=None, instructions=None, metadata={}, model='o3-mini-2025-01-31', object='response', output=[ResponseReasoningItem(id='rs_67eefa3e69908191a96199dec3343ce505b562a8227eead7', summary=[], type='reasoning', status=None), ResponseOutputMessage(id='msg_67eefa3f67788191b6a07580c38dfaf905b562a8227eead7', content=[ResponseOutputText(annotations=[], text='{\\n  \"classification\": \"Non-Religious\",\\n  \"key_topics\": [\\n    \"greeting\"\\n  ],\\n  \"context_requirements\": \"The query is simply a casual greeting without any religious content or additional context.\",\\n  \"query_complexity\": \"Low\",\\n  \"reasoning\": \"The user message \\'Helloo!!\\' is a greeting and does not contain any content related to religious topics. Therefore, it is classified as non-religious with the key topic being a greeting.\"\\n}', type='output_text')], role='assistant', status='completed', type='message')], parallel_tool_calls=True, temperature=1.0, tool_choice='auto', tools=[], top_p=1.0, max_output_tokens=None, previous_response_id=None, reasoning=Reasoning(effort='medium', generate_summary=None), status='completed', text=ResponseTextConfig(format=ResponseFormatTextJSONSchemaConfig(name='MyAnalyzerOutput', schema_={'properties': {'classification': {'description': \"Either 'Religious' or 'Non-Religious'\", 'enum': ['Religious', 'Non-Religious'], 'title': 'Classification', 'type': 'string'}, 'key_topics': {'description': \"List of key topics/areas related to the user's question (e.g., theology, jesus, humility, virtues)\", 'items': {'type': 'string'}, 'title': 'Key Topics', 'type': 'array'}, 'context_requirements': {'description': \"A clear explanation of the query's context needs\", 'title': 'Context Requirements', 'type': 'string'}, 'query_complexity': {'description': \"'Low', 'Medium', or 'High' complexity\", 'enum': ['Low', 'Medium', 'High'], 'title': 'Query Complexity', 'type': 'string'}, 'reasoning': {'description': 'The Chain of Thought that has been done in order to analyze the user query', 'title': 'Reasoning', 'type': 'string'}}, 'required': ['classification', 'key_topics', 'context_requirements', 'query_complexity', 'reasoning'], 'title': 'AnalyzerOutput', 'type': 'object', 'additionalProperties': False}, type='json_schema', description=None, strict=True)), truncation='disabled', usage=ResponseUsage(input_tokens=36, input_tokens_details=InputTokensDetails(cached_tokens=0), output_tokens=423, output_tokens_details=OutputTokensDetails(reasoning_tokens=320), total_tokens=459), user=None, store=True)"
      ]
     },
     "execution_count": 15,
     "metadata": {},
     "output_type": "execute_result"
    }
   ],
   "source": [
    "response"
   ]
  },
  {
   "cell_type": "code",
   "execution_count": 16,
   "id": "024a7455-55d7-4d79-8cd0-0b3a442a53d1",
   "metadata": {},
   "outputs": [
    {
     "data": {
      "text/plain": [
       "'{\\n  \"classification\": \"Non-Religious\",\\n  \"key_topics\": [\\n    \"greeting\"\\n  ],\\n  \"context_requirements\": \"The query is simply a casual greeting without any religious content or additional context.\",\\n  \"query_complexity\": \"Low\",\\n  \"reasoning\": \"The user message \\'Helloo!!\\' is a greeting and does not contain any content related to religious topics. Therefore, it is classified as non-religious with the key topic being a greeting.\"\\n}'"
      ]
     },
     "execution_count": 16,
     "metadata": {},
     "output_type": "execute_result"
    }
   ],
   "source": [
    "response.output_text"
   ]
  },
  {
   "cell_type": "code",
   "execution_count": 17,
   "id": "56e0e4a8-ef99-43bd-802e-7c33047bfd28",
   "metadata": {},
   "outputs": [
    {
     "data": {
      "text/plain": [
       "ResponseOutputText(annotations=[], text='{\\n  \"classification\": \"Non-Religious\",\\n  \"key_topics\": [\\n    \"greeting\"\\n  ],\\n  \"context_requirements\": \"The query is simply a casual greeting without any religious content or additional context.\",\\n  \"query_complexity\": \"Low\",\\n  \"reasoning\": \"The user message \\'Helloo!!\\' is a greeting and does not contain any content related to religious topics. Therefore, it is classified as non-religious with the key topic being a greeting.\"\\n}', type='output_text')"
      ]
     },
     "execution_count": 17,
     "metadata": {},
     "output_type": "execute_result"
    }
   ],
   "source": [
    "response.output[1].content[0]"
   ]
  },
  {
   "cell_type": "markdown",
   "id": "456a8341-3e6a-49e0-8132-ff89f9bd013c",
   "metadata": {
    "jp-MarkdownHeadingCollapsed": true
   },
   "source": [
    "### Multi-Step Structured Response"
   ]
  },
  {
   "cell_type": "markdown",
   "id": "51d5da65-0d59-4bf3-b8b4-8dca74ecd863",
   "metadata": {},
   "source": [
    "* Initialize the main template and the step's template"
   ]
  },
  {
   "cell_type": "code",
   "execution_count": 18,
   "id": "ff2cc0c8-b610-4b71-a904-e15cca88be06",
   "metadata": {},
   "outputs": [],
   "source": [
    "class Step(BaseModel):\n",
    "    explanation: str\n",
    "    output: str\n",
    "\n",
    "class MathReasoning(BaseModel):\n",
    "    steps: list[Step]\n",
    "    final_answer: str"
   ]
  },
  {
   "cell_type": "code",
   "execution_count": 19,
   "id": "a5b53ab7-5af6-41b9-8fa4-8cac66d0b735",
   "metadata": {},
   "outputs": [],
   "source": [
    "completion = client.beta.chat.completions.parse(\n",
    "    model=\"gpt-4o-2024-08-06\",\n",
    "    messages=[\n",
    "        {\"role\": \"system\", \"content\": \"You are a helpful math tutor. Guide the user through the solution step by step.\"},\n",
    "        {\"role\": \"user\", \"content\": \"how can I solve 8x + 7 = -23\"}\n",
    "    ],\n",
    "    response_format=MathReasoning,\n",
    ")\n",
    "\n",
    "math_reasoning = completion.choices[0].message"
   ]
  },
  {
   "cell_type": "code",
   "execution_count": 20,
   "id": "6a86bea6-3f00-4e0e-ae3b-40758b17a2fc",
   "metadata": {},
   "outputs": [],
   "source": [
    "math_reasoning.refusal"
   ]
  },
  {
   "cell_type": "code",
   "execution_count": 21,
   "id": "de96d67d-7a44-4f1a-b023-786f1f50cbde",
   "metadata": {},
   "outputs": [
    {
     "data": {
      "text/plain": [
       "MathReasoning(steps=[Step(explanation=\"The equation given is 8x + 7 = -23. We want to isolate the variable x. To do this, start by removing the constant term on the left side of the equation, which is 7. We'll do this by subtracting 7 from both sides of the equation.\", output='8x + 7 - 7 = -23 - 7'), Step(explanation='Subtracting 7 from both sides simplifies the equation. The left side becomes 8x, and the right side becomes -23 - 7, which is -30.', output='8x = -30'), Step(explanation='Now, we need to solve for x by isolating it. Since x is multiplied by 8, we do the opposite operation, which is dividing by 8, on both sides of the equation.', output='x = -30 / 8'), Step(explanation='Simplify the right side of the equation by performing the division. -30 divided by 8 simplifies to -3.75.', output='x = -3.75')], final_answer='x = -3.75')"
      ]
     },
     "execution_count": 21,
     "metadata": {},
     "output_type": "execute_result"
    }
   ],
   "source": [
    "math_reasoning.parsed"
   ]
  },
  {
   "cell_type": "code",
   "execution_count": 22,
   "id": "691a9dbd-f520-46c7-87af-7e0692718cee",
   "metadata": {},
   "outputs": [
    {
     "data": {
      "text/plain": [
       "'x = -3.75'"
      ]
     },
     "execution_count": 22,
     "metadata": {},
     "output_type": "execute_result"
    }
   ],
   "source": [
    "math_reasoning.parsed.final_answer"
   ]
  },
  {
   "cell_type": "code",
   "execution_count": 23,
   "id": "49cead43-2452-412b-9276-0928e6a22ea2",
   "metadata": {},
   "outputs": [
    {
     "data": {
      "text/plain": [
       "[Step(explanation=\"The equation given is 8x + 7 = -23. We want to isolate the variable x. To do this, start by removing the constant term on the left side of the equation, which is 7. We'll do this by subtracting 7 from both sides of the equation.\", output='8x + 7 - 7 = -23 - 7'),\n",
       " Step(explanation='Subtracting 7 from both sides simplifies the equation. The left side becomes 8x, and the right side becomes -23 - 7, which is -30.', output='8x = -30'),\n",
       " Step(explanation='Now, we need to solve for x by isolating it. Since x is multiplied by 8, we do the opposite operation, which is dividing by 8, on both sides of the equation.', output='x = -30 / 8'),\n",
       " Step(explanation='Simplify the right side of the equation by performing the division. -30 divided by 8 simplifies to -3.75.', output='x = -3.75')]"
      ]
     },
     "execution_count": 23,
     "metadata": {},
     "output_type": "execute_result"
    }
   ],
   "source": [
    "math_reasoning.parsed.steps"
   ]
  },
  {
   "cell_type": "markdown",
   "id": "8d0556a1-d37a-4656-9149-dd13d9347b81",
   "metadata": {
    "jp-MarkdownHeadingCollapsed": true
   },
   "source": [
    "### Streaming Structured Output"
   ]
  },
  {
   "cell_type": "code",
   "execution_count": 24,
   "id": "c601a5d8-100d-4c91-8ba2-82a9e42c9a7b",
   "metadata": {},
   "outputs": [
    {
     "name": "stderr",
     "output_type": "stream",
     "text": [
      "/tmp/ipykernel_4511/1884170164.py:1: PydanticDeprecatedSince20: The `schema` method is deprecated; use `model_json_schema` instead. Deprecated in Pydantic V2.0 to be removed in V3.0. See Pydantic V2 Migration Guide at https://errors.pydantic.dev/2.11/migration/\n",
      "  schema_dict = AnalyzerOutput.schema()\n"
     ]
    },
    {
     "data": {
      "text/plain": [
       "{'properties': {'classification': {'description': \"Either 'Religious' or 'Non-Religious'\",\n",
       "   'enum': ['Religious', 'Non-Religious'],\n",
       "   'title': 'Classification',\n",
       "   'type': 'string'},\n",
       "  'key_topics': {'description': \"List of key topics/areas related to the user's question (e.g., theology, jesus, humility, virtues)\",\n",
       "   'items': {'type': 'string'},\n",
       "   'title': 'Key Topics',\n",
       "   'type': 'array'},\n",
       "  'context_requirements': {'description': \"A clear explanation of the query's context needs\",\n",
       "   'title': 'Context Requirements',\n",
       "   'type': 'string'},\n",
       "  'query_complexity': {'description': \"'Low', 'Medium', or 'High' complexity\",\n",
       "   'enum': ['Low', 'Medium', 'High'],\n",
       "   'title': 'Query Complexity',\n",
       "   'type': 'string'},\n",
       "  'reasoning': {'description': 'The Chain of Thought that has been done in order to analyze the user query',\n",
       "   'title': 'Reasoning',\n",
       "   'type': 'string'}},\n",
       " 'required': ['classification',\n",
       "  'key_topics',\n",
       "  'context_requirements',\n",
       "  'query_complexity',\n",
       "  'reasoning'],\n",
       " 'title': 'AnalyzerOutput',\n",
       " 'type': 'object',\n",
       " 'additionalProperties': False}"
      ]
     },
     "execution_count": 24,
     "metadata": {},
     "output_type": "execute_result"
    }
   ],
   "source": [
    "schema_dict = AnalyzerOutput.schema()\n",
    "schema_dict[\"additionalProperties\"] = False\n",
    "schema_dict"
   ]
  },
  {
   "cell_type": "code",
   "execution_count": 25,
   "id": "9a390035-dbc1-45e8-9126-2f0385c5df4d",
   "metadata": {},
   "outputs": [
    {
     "data": {
      "text/plain": [
       "{'format': {'type': 'json_schema',\n",
       "  'name': 'MyAnalyzerOutput',\n",
       "  'schema': {'properties': {'classification': {'description': \"Either 'Religious' or 'Non-Religious'\",\n",
       "     'enum': ['Religious', 'Non-Religious'],\n",
       "     'title': 'Classification',\n",
       "     'type': 'string'},\n",
       "    'key_topics': {'description': \"List of key topics/areas related to the user's question (e.g., theology, jesus, humility, virtues)\",\n",
       "     'items': {'type': 'string'},\n",
       "     'title': 'Key Topics',\n",
       "     'type': 'array'},\n",
       "    'context_requirements': {'description': \"A clear explanation of the query's context needs\",\n",
       "     'title': 'Context Requirements',\n",
       "     'type': 'string'},\n",
       "    'query_complexity': {'description': \"'Low', 'Medium', or 'High' complexity\",\n",
       "     'enum': ['Low', 'Medium', 'High'],\n",
       "     'title': 'Query Complexity',\n",
       "     'type': 'string'},\n",
       "    'reasoning': {'description': 'The Chain of Thought that has been done in order to analyze the user query',\n",
       "     'title': 'Reasoning',\n",
       "     'type': 'string'}},\n",
       "   'required': ['classification',\n",
       "    'key_topics',\n",
       "    'context_requirements',\n",
       "    'query_complexity',\n",
       "    'reasoning'],\n",
       "   'title': 'AnalyzerOutput',\n",
       "   'type': 'object',\n",
       "   'additionalProperties': False}}}"
      ]
     },
     "execution_count": 25,
     "metadata": {},
     "output_type": "execute_result"
    }
   ],
   "source": [
    "text_dict = {\n",
    "    \"format\": {\n",
    "        \"type\": \"json_schema\",\n",
    "        \"name\": \"MyAnalyzerOutput\",  # arbitrary name\n",
    "        \"schema\": schema_dict\n",
    "    }\n",
    "}\n",
    "text_dict"
   ]
  },
  {
   "cell_type": "code",
   "execution_count": 26,
   "id": "c74ceafa-f617-4147-8b98-e48d99c9cb1e",
   "metadata": {},
   "outputs": [
    {
     "name": "stdout",
     "output_type": "stream",
     "text": [
      "{\n",
      "  \"classification\": \"Non-Religious\",\n",
      "  \"key_topics\": [\"greeting\"],\n",
      "  \"context_requirements\": \"The query is a simple greeting message and does not imply any religious context.\",\n",
      "  \"query_complexity\": \"Low\",\n",
      "  \"reasoning\": \"The user's message 'Helloo!!' is a casual greeting without any religious elements. It falls under non-religious content, and the simplicity of the greeting means that the query is of low complexity.\"\n",
      "}"
     ]
    }
   ],
   "source": [
    "stream = client.responses.create(\n",
    "    model=MODEL_NAME,\n",
    "    input=chat_template,\n",
    "    text=text_dict,\n",
    "    stream=True,\n",
    ")\n",
    "\n",
    "for event in stream:\n",
    "    if event.type == 'response.refusal.delta':\n",
    "        print(event.delta, end=\"\")\n",
    "    elif event.type == 'response.output_text.delta':\n",
    "        print(event.delta, end=\"\")\n",
    "    elif event.type == 'response.error':\n",
    "        print(event.error, end=\"\")\n",
    "    elif event.type == 'response.completed':\n",
    "        response = event.response.output"
   ]
  },
  {
   "cell_type": "code",
   "execution_count": 27,
   "id": "c3bf56d0-8171-4eef-8dce-86d2e8ae140f",
   "metadata": {},
   "outputs": [
    {
     "data": {
      "text/plain": [
       "[ResponseReasoningItem(id='rs_67eefa4a0c588191a0db7699d16846980f551bba5511bb39', summary=[], type='reasoning', status=None),\n",
       " ResponseOutputMessage(id='msg_67eefa4acbec8191bedd9651ad84bf120f551bba5511bb39', content=[ResponseOutputText(annotations=[], text='{\\n  \"classification\": \"Non-Religious\",\\n  \"key_topics\": [\"greeting\"],\\n  \"context_requirements\": \"The query is a simple greeting message and does not imply any religious context.\",\\n  \"query_complexity\": \"Low\",\\n  \"reasoning\": \"The user\\'s message \\'Helloo!!\\' is a casual greeting without any religious elements. It falls under non-religious content, and the simplicity of the greeting means that the query is of low complexity.\"\\n}', type='output_text')], role='assistant', status='completed', type='message')]"
      ]
     },
     "execution_count": 27,
     "metadata": {},
     "output_type": "execute_result"
    }
   ],
   "source": [
    "response"
   ]
  },
  {
   "cell_type": "code",
   "execution_count": 28,
   "id": "ee181dc1-467c-43b0-8eeb-b6343b9a17e1",
   "metadata": {},
   "outputs": [
    {
     "data": {
      "text/plain": [
       "ResponseReasoningItem(id='rs_67eefa4a0c588191a0db7699d16846980f551bba5511bb39', summary=[], type='reasoning', status=None)"
      ]
     },
     "execution_count": 28,
     "metadata": {},
     "output_type": "execute_result"
    }
   ],
   "source": [
    "response[0]"
   ]
  },
  {
   "cell_type": "code",
   "execution_count": 29,
   "id": "c6c17a89-fa55-4967-9943-6683422c2dda",
   "metadata": {},
   "outputs": [
    {
     "data": {
      "text/plain": [
       "ResponseOutputMessage(id='msg_67eefa4acbec8191bedd9651ad84bf120f551bba5511bb39', content=[ResponseOutputText(annotations=[], text='{\\n  \"classification\": \"Non-Religious\",\\n  \"key_topics\": [\"greeting\"],\\n  \"context_requirements\": \"The query is a simple greeting message and does not imply any religious context.\",\\n  \"query_complexity\": \"Low\",\\n  \"reasoning\": \"The user\\'s message \\'Helloo!!\\' is a casual greeting without any religious elements. It falls under non-religious content, and the simplicity of the greeting means that the query is of low complexity.\"\\n}', type='output_text')], role='assistant', status='completed', type='message')"
      ]
     },
     "execution_count": 29,
     "metadata": {},
     "output_type": "execute_result"
    }
   ],
   "source": [
    "response[1]"
   ]
  },
  {
   "cell_type": "code",
   "execution_count": 30,
   "id": "fff3f5ad-e1d0-4352-95c0-4217e948e298",
   "metadata": {},
   "outputs": [
    {
     "data": {
      "text/plain": [
       "'assistant'"
      ]
     },
     "execution_count": 30,
     "metadata": {},
     "output_type": "execute_result"
    }
   ],
   "source": [
    "response[1].role"
   ]
  },
  {
   "cell_type": "code",
   "execution_count": 31,
   "id": "6b2d3fb2-d046-42f9-aa24-7fb13c9b2acd",
   "metadata": {},
   "outputs": [
    {
     "data": {
      "text/plain": [
       "'completed'"
      ]
     },
     "execution_count": 31,
     "metadata": {},
     "output_type": "execute_result"
    }
   ],
   "source": [
    "response[1].status"
   ]
  },
  {
   "cell_type": "code",
   "execution_count": 32,
   "id": "1d51a2ac-8476-42b2-9c9e-e7a0c58ab15d",
   "metadata": {},
   "outputs": [
    {
     "data": {
      "text/plain": [
       "'{\\n  \"classification\": \"Non-Religious\",\\n  \"key_topics\": [\"greeting\"],\\n  \"context_requirements\": \"The query is a simple greeting message and does not imply any religious context.\",\\n  \"query_complexity\": \"Low\",\\n  \"reasoning\": \"The user\\'s message \\'Helloo!!\\' is a casual greeting without any religious elements. It falls under non-religious content, and the simplicity of the greeting means that the query is of low complexity.\"\\n}'"
      ]
     },
     "execution_count": 32,
     "metadata": {},
     "output_type": "execute_result"
    }
   ],
   "source": [
    "response[1].content[0].text"
   ]
  },
  {
   "cell_type": "markdown",
   "id": "77ac5aa6-2fca-466b-ba02-e7a19cc67ff6",
   "metadata": {
    "jp-MarkdownHeadingCollapsed": true
   },
   "source": [
    "### Function Calling Response"
   ]
  },
  {
   "cell_type": "code",
   "execution_count": 33,
   "id": "f6b3d08e-fbe7-432c-9a01-39b01476a14d",
   "metadata": {},
   "outputs": [],
   "source": [
    "tools = [{\n",
    "    \"type\": \"function\",\n",
    "    \"name\": \"get_weather\",\n",
    "    \"description\": \"Get current temperature for a given location.\",\n",
    "    \"parameters\": {\n",
    "        \"type\": \"object\",\n",
    "        \"properties\": {\n",
    "            \"location\": {\n",
    "                \"type\": \"string\",\n",
    "                \"description\": \"City and country e.g. Bogotá, Colombia\"\n",
    "            }\n",
    "        },\n",
    "        \"required\": [\n",
    "            \"location\"\n",
    "        ],\n",
    "        \"additionalProperties\": False\n",
    "    }\n",
    "}]"
   ]
  },
  {
   "cell_type": "code",
   "execution_count": 34,
   "id": "707735f0-5fb3-4e41-bf61-4f11c242fafd",
   "metadata": {},
   "outputs": [
    {
     "data": {
      "text/plain": [
       "Response(id='resp_67eefa4c1c1c81918cf2ded63d178ee201399e5e5dcbafd3', created_at=1743714892.0, error=None, incomplete_details=None, instructions=None, metadata={}, model='o3-mini-2025-01-31', object='response', output=[ResponseReasoningItem(id='rs_67eefa4cffb48191a0ad2433af706f7f01399e5e5dcbafd3', summary=[], type='reasoning', status=None), ResponseFunctionToolCall(arguments='{\"location\": \"Paris, France\"}', call_id='call_StVkKwib4bjRUbJtum2aip1G', name='get_weather', type='function_call', id='fc_67eefa4d79208191918dac892115886a01399e5e5dcbafd3', status='completed')], parallel_tool_calls=True, temperature=1.0, tool_choice='auto', tools=[FunctionTool(name='get_weather', parameters={'type': 'object', 'properties': {'location': {'type': 'string', 'description': 'City and country e.g. Bogotá, Colombia'}}, 'required': ['location'], 'additionalProperties': False}, strict=True, type='function', description='Get current temperature for a given location.')], top_p=1.0, max_output_tokens=None, previous_response_id=None, reasoning=Reasoning(effort='medium', generate_summary=None), status='completed', text=ResponseTextConfig(format=ResponseFormatText(type='text')), truncation='disabled', usage=ResponseUsage(input_tokens=68, input_tokens_details=InputTokensDetails(cached_tokens=0), output_tokens=79, output_tokens_details=OutputTokensDetails(reasoning_tokens=64), total_tokens=147), user=None, store=True)"
      ]
     },
     "execution_count": 34,
     "metadata": {},
     "output_type": "execute_result"
    }
   ],
   "source": [
    "response = client.responses.create(\n",
    "    model=MODEL_NAME,\n",
    "    input=[{\"role\": \"user\", \"content\": \"What is the weather like in Paris today?\"}],\n",
    "    tools=tools\n",
    ")\n",
    "\n",
    "response"
   ]
  },
  {
   "cell_type": "code",
   "execution_count": 35,
   "id": "c3ea1eb3-3bb6-4cfc-b853-96e8dd33fe79",
   "metadata": {},
   "outputs": [
    {
     "name": "stdout",
     "output_type": "stream",
     "text": [
      "{\"location\": \"Paris, France\"}\n",
      "fc_67eefa4d79208191918dac892115886a01399e5e5dcbafd3\n",
      "function_call\n",
      "get_weather\n"
     ]
    }
   ],
   "source": [
    "print(response.output[1].arguments)\n",
    "print(response.output[1].id)\n",
    "print(response.output[1].type)\n",
    "print(response.output[1].name)"
   ]
  },
  {
   "cell_type": "markdown",
   "id": "618d1e56-5f44-44f9-be10-163b705fb49d",
   "metadata": {
    "jp-MarkdownHeadingCollapsed": true
   },
   "source": [
    "## Langchain LLM-Chains"
   ]
  },
  {
   "cell_type": "markdown",
   "id": "9815d4fd-cf6a-42c5-a725-5e44588c9776",
   "metadata": {
    "jp-MarkdownHeadingCollapsed": true
   },
   "source": [
    "### Langchain Setup"
   ]
  },
  {
   "cell_type": "markdown",
   "id": "8dd3005a-f51e-46c3-a4dd-714db9780330",
   "metadata": {},
   "source": [
    "* Import necessary libraries"
   ]
  },
  {
   "cell_type": "code",
   "execution_count": 36,
   "id": "0d8e3be1-c962-4c26-94da-b17f9614b798",
   "metadata": {},
   "outputs": [],
   "source": [
    "from pydantic import BaseModel, Field\n",
    "from typing import List, Literal\n",
    "\n",
    "from langchain.prompts import ChatPromptTemplate\n",
    "from langchain.schema import HumanMessage\n",
    "from langchain_openai import ChatOpenAI\n",
    "from langchain.tools import tool"
   ]
  },
  {
   "cell_type": "markdown",
   "id": "a3de0eab-146f-472d-8e49-4b28607e85ce",
   "metadata": {},
   "source": [
    "* Initialize Structure Output template"
   ]
  },
  {
   "cell_type": "code",
   "execution_count": 37,
   "id": "4fe51cb6-2a8b-4674-b2fb-70ae9485e981",
   "metadata": {},
   "outputs": [],
   "source": [
    "class AnalyzerOutput(BaseModel):\n",
    "    classification: Literal[\"Religious\", \"Non-Religious\"] = Field(..., description=\"Either 'Religious' or 'Non-Religious'\")\n",
    "    key_topics: List[str] = Field(..., description=\"List of key topics/areas related to the user's question (e.g., theology, jesus, humility, virtues)\",)\n",
    "    context_requirements: str = Field(..., description=\"A clear explanation of the query's context needs\")\n",
    "    query_complexity: Literal[\"Low\", \"Medium\", \"High\"] = Field(..., description=\"'Low', 'Medium', or 'High' complexity\")\n",
    "    reasoning: str = Field(..., description=\"The Chain of Thought that has been done in order to analyze the user query\")"
   ]
  },
  {
   "cell_type": "markdown",
   "id": "5edb277a-24e3-4b68-bc13-c8ae97fe2cd0",
   "metadata": {},
   "source": [
    "* Initialize configs"
   ]
  },
  {
   "cell_type": "code",
   "execution_count": 38,
   "id": "03468a9e-0573-4c74-9e5c-99ec4fa411a5",
   "metadata": {},
   "outputs": [],
   "source": [
    "MODEL_NAME = 'o3-mini'"
   ]
  },
  {
   "cell_type": "markdown",
   "id": "336ca3cd-1d5b-4842-b59e-cf4c410d03ee",
   "metadata": {},
   "source": [
    "* Initialize prompt templates"
   ]
  },
  {
   "cell_type": "code",
   "execution_count": 39,
   "id": "384cd3ee-af74-4dd9-a466-9535575be0c0",
   "metadata": {},
   "outputs": [],
   "source": [
    "analyzer_prompt = ChatPromptTemplate.from_messages(\n",
    "    [\n",
    "        (\n",
    "            \"system\",\n",
    "            \"You are an AI assistant that classifies user queries as either religious or non-religious and extracts key topics.\",\n",
    "        ),\n",
    "        (\n",
    "            \"human\",\n",
    "            \"Classify the following query and extract key concepts:\\n\\nQuery: {query}\",\n",
    "        ),\n",
    "    ]\n",
    ")\n",
    "\n",
    "chat_prompt = ChatPromptTemplate.from_messages(\n",
    "    [\n",
    "        (\n",
    "            \"system\",\n",
    "            \"You are a helpful assistant named {assistant_name}. Use the available tools to provide accurate information.\"\n",
    "        ),\n",
    "        (\n",
    "            \"human\",\n",
    "            \"{user_input}\"\n",
    "        )\n",
    "    ]\n",
    ")"
   ]
  },
  {
   "cell_type": "markdown",
   "id": "6f9c2c40-cabe-4dce-a754-1f1a907488ba",
   "metadata": {
    "jp-MarkdownHeadingCollapsed": true
   },
   "source": [
    "### Agent with Simple Response"
   ]
  },
  {
   "cell_type": "code",
   "execution_count": 40,
   "id": "41f9c072-bb06-41b0-a103-018928ea1d1b",
   "metadata": {},
   "outputs": [],
   "source": [
    "llm = ChatOpenAI(model=MODEL_NAME)\n",
    "analyzer_chain = analyzer_prompt | llm"
   ]
  },
  {
   "cell_type": "code",
   "execution_count": 41,
   "id": "5a934264-dc7d-48f2-8d40-d96c0f67bfee",
   "metadata": {},
   "outputs": [
    {
     "data": {
      "text/plain": [
       "AIMessage(content='Classification: Non-religious\\n\\nKey Concepts:\\n• Greeting\\n• Salutation\\n• Casual communication', additional_kwargs={'refusal': None}, response_metadata={'token_usage': {'completion_tokens': 95, 'prompt_tokens': 46, 'total_tokens': 141, 'completion_tokens_details': {'accepted_prediction_tokens': 0, 'audio_tokens': 0, 'reasoning_tokens': 64, 'rejected_prediction_tokens': 0}, 'prompt_tokens_details': {'audio_tokens': 0, 'cached_tokens': 0}}, 'model_name': 'o3-mini-2025-01-31', 'system_fingerprint': 'fp_617f206dd9', 'finish_reason': 'stop', 'logprobs': None}, id='run-490abbfa-d40a-4703-9ec2-8adba68e51f3-0', usage_metadata={'input_tokens': 46, 'output_tokens': 95, 'total_tokens': 141, 'input_token_details': {'audio': 0, 'cache_read': 0}, 'output_token_details': {'audio': 0, 'reasoning': 64}})"
      ]
     },
     "execution_count": 41,
     "metadata": {},
     "output_type": "execute_result"
    }
   ],
   "source": [
    "text = analyzer_chain.invoke('Hello')\n",
    "text"
   ]
  },
  {
   "cell_type": "code",
   "execution_count": 42,
   "id": "1ab1aefe-e570-49f7-8fa9-a7a1eb6447bc",
   "metadata": {},
   "outputs": [
    {
     "name": "stdout",
     "output_type": "stream",
     "text": [
      "Classification: Non-religious\n",
      "\n",
      "Key Concepts:\n",
      "• Greeting\n",
      "• Salutation\n",
      "• Casual communication \n",
      "\n",
      "\n",
      "{'token_usage': {'completion_tokens': 95, 'prompt_tokens': 46, 'total_tokens': 141, 'completion_tokens_details': {'accepted_prediction_tokens': 0, 'audio_tokens': 0, 'reasoning_tokens': 64, 'rejected_prediction_tokens': 0}, 'prompt_tokens_details': {'audio_tokens': 0, 'cached_tokens': 0}}, 'model_name': 'o3-mini-2025-01-31', 'system_fingerprint': 'fp_617f206dd9', 'finish_reason': 'stop', 'logprobs': None} \n",
      "\n",
      "\n",
      "run-490abbfa-d40a-4703-9ec2-8adba68e51f3-0 \n",
      "\n",
      "\n",
      "{'input_tokens': 46, 'output_tokens': 95, 'total_tokens': 141, 'input_token_details': {'audio': 0, 'cache_read': 0}, 'output_token_details': {'audio': 0, 'reasoning': 64}}\n"
     ]
    }
   ],
   "source": [
    "print(text.content, '\\n\\n')\n",
    "print(text.response_metadata, '\\n\\n')\n",
    "print(text.id, '\\n\\n')\n",
    "print(text.usage_metadata)"
   ]
  },
  {
   "cell_type": "markdown",
   "id": "f944ffa9-e6af-4b1c-9d01-635950bcdabe",
   "metadata": {
    "jp-MarkdownHeadingCollapsed": true
   },
   "source": [
    "### Agent with Simple Response & Tools"
   ]
  },
  {
   "cell_type": "code",
   "execution_count": 43,
   "id": "877a5ab3-a601-4e17-b496-c0292c35f1bc",
   "metadata": {},
   "outputs": [],
   "source": [
    "@tool\n",
    "def get_weather(location: str) -> str:\n",
    "    \"\"\"Fetches the current weather for a specified location.\"\"\"\n",
    "    # Placeholder implementation\n",
    "    return f\"The current weather in {location} is sunny with a temperature of 25°C.\""
   ]
  },
  {
   "cell_type": "code",
   "execution_count": 44,
   "id": "0f41bf7e-f734-4608-a594-0ac14dd33664",
   "metadata": {},
   "outputs": [],
   "source": [
    "llm = ChatOpenAI(model=MODEL_NAME)\n",
    "llm_with_tools = llm.bind_tools([get_weather])\n",
    "chain = chat_prompt | llm_with_tools"
   ]
  },
  {
   "cell_type": "code",
   "execution_count": 45,
   "id": "2bf12e66-23d6-4013-b5f3-fd970724160c",
   "metadata": {},
   "outputs": [],
   "source": [
    "inputs = {\n",
    "    \"assistant_name\": \"Athena\",\n",
    "    \"user_input\": \"What's the weather in Thessaloniki?\"\n",
    "}"
   ]
  },
  {
   "cell_type": "code",
   "execution_count": 46,
   "id": "f2df8ccf-4bad-499b-a2f8-9a5f0ebe0c4f",
   "metadata": {},
   "outputs": [
    {
     "data": {
      "text/plain": [
       "AIMessage(content='', additional_kwargs={'tool_calls': [{'id': 'call_5Yjq1KeYue0cxQuwukbArHuA', 'function': {'arguments': '{\"location\": \"Thessaloniki\"}', 'name': 'get_weather'}, 'type': 'function'}], 'refusal': None}, response_metadata={'token_usage': {'completion_tokens': 26, 'prompt_tokens': 75, 'total_tokens': 101, 'completion_tokens_details': {'accepted_prediction_tokens': 0, 'audio_tokens': 0, 'reasoning_tokens': 0, 'rejected_prediction_tokens': 0}, 'prompt_tokens_details': {'audio_tokens': 0, 'cached_tokens': 0}}, 'model_name': 'o3-mini-2025-01-31', 'system_fingerprint': 'fp_617f206dd9', 'finish_reason': 'tool_calls', 'logprobs': None}, id='run-e142ac56-65a0-4552-931a-63174a671c93-0', tool_calls=[{'name': 'get_weather', 'args': {'location': 'Thessaloniki'}, 'id': 'call_5Yjq1KeYue0cxQuwukbArHuA', 'type': 'tool_call'}], usage_metadata={'input_tokens': 75, 'output_tokens': 26, 'total_tokens': 101, 'input_token_details': {'audio': 0, 'cache_read': 0}, 'output_token_details': {'audio': 0, 'reasoning': 0}})"
      ]
     },
     "execution_count": 46,
     "metadata": {},
     "output_type": "execute_result"
    }
   ],
   "source": [
    "response = chain.invoke(inputs)\n",
    "response"
   ]
  },
  {
   "cell_type": "code",
   "execution_count": 47,
   "id": "36e75e76-5cce-4b63-82ab-4e468eed46d7",
   "metadata": {},
   "outputs": [
    {
     "data": {
      "text/plain": [
       "[{'name': 'get_weather',\n",
       "  'args': {'location': 'Thessaloniki'},\n",
       "  'id': 'call_5Yjq1KeYue0cxQuwukbArHuA',\n",
       "  'type': 'tool_call'}]"
      ]
     },
     "execution_count": 47,
     "metadata": {},
     "output_type": "execute_result"
    }
   ],
   "source": [
    "response.tool_calls"
   ]
  },
  {
   "cell_type": "code",
   "execution_count": 48,
   "id": "0f4f0522-431f-403d-8d88-706046e0d4a8",
   "metadata": {},
   "outputs": [
    {
     "data": {
      "text/plain": [
       "''"
      ]
     },
     "execution_count": 48,
     "metadata": {},
     "output_type": "execute_result"
    }
   ],
   "source": [
    "response.content"
   ]
  },
  {
   "cell_type": "code",
   "execution_count": 49,
   "id": "51c9913c-4610-400f-aada-a20b8cff6608",
   "metadata": {},
   "outputs": [
    {
     "data": {
      "text/plain": [
       "'tool_calls'"
      ]
     },
     "execution_count": 49,
     "metadata": {},
     "output_type": "execute_result"
    }
   ],
   "source": [
    "response.response_metadata['finish_reason']"
   ]
  },
  {
   "cell_type": "code",
   "execution_count": 50,
   "id": "79a43f15-5dc1-4d2b-8fdf-858157ca25be",
   "metadata": {},
   "outputs": [],
   "source": [
    "inputs = {\n",
    "    \"assistant_name\": \"Athena\",\n",
    "    \"user_input\": \"What's your name?\"\n",
    "}"
   ]
  },
  {
   "cell_type": "code",
   "execution_count": 51,
   "id": "eb61071f-db4a-4df5-9124-8f3bc741d235",
   "metadata": {},
   "outputs": [
    {
     "data": {
      "text/plain": [
       "AIMessage(content='My name is Athena. How can I help you today?', additional_kwargs={'refusal': None}, response_metadata={'token_usage': {'completion_tokens': 88, 'prompt_tokens': 71, 'total_tokens': 159, 'completion_tokens_details': {'accepted_prediction_tokens': 0, 'audio_tokens': 0, 'reasoning_tokens': 64, 'rejected_prediction_tokens': 0}, 'prompt_tokens_details': {'audio_tokens': 0, 'cached_tokens': 0}}, 'model_name': 'o3-mini-2025-01-31', 'system_fingerprint': 'fp_617f206dd9', 'finish_reason': 'stop', 'logprobs': None}, id='run-31e4471d-30ed-4ca9-b894-ff339e3e3ce7-0', usage_metadata={'input_tokens': 71, 'output_tokens': 88, 'total_tokens': 159, 'input_token_details': {'audio': 0, 'cache_read': 0}, 'output_token_details': {'audio': 0, 'reasoning': 64}})"
      ]
     },
     "execution_count": 51,
     "metadata": {},
     "output_type": "execute_result"
    }
   ],
   "source": [
    "response = chain.invoke(inputs)\n",
    "response"
   ]
  },
  {
   "cell_type": "code",
   "execution_count": 52,
   "id": "3d2a4c9b-1b7a-4b06-b4ee-0eee6ed2c559",
   "metadata": {},
   "outputs": [
    {
     "data": {
      "text/plain": [
       "[]"
      ]
     },
     "execution_count": 52,
     "metadata": {},
     "output_type": "execute_result"
    }
   ],
   "source": [
    "response.tool_calls"
   ]
  },
  {
   "cell_type": "code",
   "execution_count": 53,
   "id": "6f558201-7e20-4998-a947-f0d2ba51eecb",
   "metadata": {},
   "outputs": [
    {
     "data": {
      "text/plain": [
       "'My name is Athena. How can I help you today?'"
      ]
     },
     "execution_count": 53,
     "metadata": {},
     "output_type": "execute_result"
    }
   ],
   "source": [
    "response.content"
   ]
  },
  {
   "cell_type": "code",
   "execution_count": 54,
   "id": "b52806b6-e96b-47d2-aaa7-496dddca93a5",
   "metadata": {},
   "outputs": [
    {
     "data": {
      "text/plain": [
       "'stop'"
      ]
     },
     "execution_count": 54,
     "metadata": {},
     "output_type": "execute_result"
    }
   ],
   "source": [
    "response.response_metadata['finish_reason']"
   ]
  },
  {
   "cell_type": "markdown",
   "id": "ab2a803e-2f5d-4d39-95f0-b474efed49f7",
   "metadata": {
    "jp-MarkdownHeadingCollapsed": true
   },
   "source": [
    "### Agent with Streaming Response"
   ]
  },
  {
   "cell_type": "code",
   "execution_count": 55,
   "id": "6dbe4b66-4cc2-4f28-be86-3b27561bdb0a",
   "metadata": {
    "scrolled": true
   },
   "outputs": [],
   "source": [
    "llm = ChatOpenAI(model=MODEL_NAME, streaming=True)\n",
    "analyzer_chain = analyzer_prompt | llm"
   ]
  },
  {
   "cell_type": "code",
   "execution_count": 56,
   "id": "76b0d784-c7ba-456d-b058-63800a9c5646",
   "metadata": {},
   "outputs": [
    {
     "name": "stdout",
     "output_type": "stream",
     "text": [
      "Classification: Non-religious\n",
      "\n",
      "Key topics: Greeting, Salutation\n",
      "\n",
      "The query \"Hello!!\" is a casual greeting and does not contain any religious content."
     ]
    }
   ],
   "source": [
    "response = ''\n",
    "for token in analyzer_chain.stream('Hello!!'):\n",
    "    response += token.content\n",
    "    print(token.content, end='', flush=True)"
   ]
  },
  {
   "cell_type": "code",
   "execution_count": 57,
   "id": "8cf68537-5358-4293-9cda-e45d98e68137",
   "metadata": {},
   "outputs": [
    {
     "data": {
      "text/plain": [
       "'Classification: Non-religious\\n\\nKey topics: Greeting, Salutation\\n\\nThe query \"Hello!!\" is a casual greeting and does not contain any religious content.'"
      ]
     },
     "execution_count": 57,
     "metadata": {},
     "output_type": "execute_result"
    }
   ],
   "source": [
    "response"
   ]
  },
  {
   "cell_type": "markdown",
   "id": "df1e9893-d7ba-4724-9d4f-dcce243f8be1",
   "metadata": {
    "jp-MarkdownHeadingCollapsed": true
   },
   "source": [
    "### Agent with Streaming Response & Tools"
   ]
  },
  {
   "cell_type": "code",
   "execution_count": 58,
   "id": "b8bee014-770b-4223-b52d-eb05eb813c63",
   "metadata": {},
   "outputs": [],
   "source": [
    "@tool\n",
    "def get_weather(location: str) -> str:\n",
    "    \"\"\"Fetches the current weather for a specified location.\"\"\"\n",
    "    # Placeholder implementation\n",
    "    return f\"The current weather in {location} is sunny with a temperature of 25°C.\""
   ]
  },
  {
   "cell_type": "code",
   "execution_count": 59,
   "id": "c74110c8-af4d-4a2f-b79f-7093d441623f",
   "metadata": {},
   "outputs": [],
   "source": [
    "llm = ChatOpenAI(model=MODEL_NAME, streaming=True)\n",
    "llm_with_tools = llm.bind_tools([get_weather])\n",
    "chain = chat_prompt | llm_with_tools"
   ]
  },
  {
   "cell_type": "code",
   "execution_count": 60,
   "id": "29248a6c-8ffe-41e5-98bd-e2d6b4bd03c7",
   "metadata": {},
   "outputs": [],
   "source": [
    "inputs = {\n",
    "    \"assistant_name\": \"Athena\",\n",
    "    \"user_input\": \"What's your name?\"\n",
    "}"
   ]
  },
  {
   "cell_type": "code",
   "execution_count": 61,
   "id": "22eed1a5-8926-400f-a55d-3e7af0ca64e9",
   "metadata": {},
   "outputs": [],
   "source": [
    "def extract_tool_content(chunk, tool_calls):\n",
    "    if chunk.tool_call_chunks:\n",
    "        for tool_chunk in chunk.tool_call_chunks:\n",
    "            index = tool_chunk['index']\n",
    "            if index not in tool_calls:\n",
    "                tool_calls[index] = {\n",
    "                    'name': tool_chunk['name'],  # might be None at first\n",
    "                    'args': '',\n",
    "                    'id': tool_chunk['id']\n",
    "                }\n",
    "            if tool_chunk['name'] is not None:\n",
    "                tool_calls[index]['name'] = tool_chunk['name']\n",
    "            if tool_chunk['args']:\n",
    "                tool_calls[index]['args'] += tool_chunk['args']"
   ]
  },
  {
   "cell_type": "code",
   "execution_count": 62,
   "id": "ac2f3e70-08e8-426e-8b6d-27e1db2ded75",
   "metadata": {},
   "outputs": [
    {
     "name": "stdout",
     "output_type": "stream",
     "text": [
      "My name is Athena. How can I help you today?"
     ]
    }
   ],
   "source": [
    "response = ''\n",
    "tool_calls = {}\n",
    "\n",
    "for chunk in chain.stream(inputs):\n",
    "    response += chunk.content\n",
    "    print(chunk.content, end='', flush=True)\n",
    "    \n",
    "    extract_tool_content(chunk, tool_calls)"
   ]
  },
  {
   "cell_type": "code",
   "execution_count": 63,
   "id": "28b85c8a-bc25-420a-a322-4e2a4c9686e2",
   "metadata": {},
   "outputs": [
    {
     "data": {
      "text/plain": [
       "{}"
      ]
     },
     "execution_count": 63,
     "metadata": {},
     "output_type": "execute_result"
    }
   ],
   "source": [
    "tool_calls"
   ]
  },
  {
   "cell_type": "code",
   "execution_count": 64,
   "id": "128645b2-a673-4bb3-8e65-90d81cef707e",
   "metadata": {},
   "outputs": [
    {
     "data": {
      "text/plain": [
       "'My name is Athena. How can I help you today?'"
      ]
     },
     "execution_count": 64,
     "metadata": {},
     "output_type": "execute_result"
    }
   ],
   "source": [
    "response"
   ]
  },
  {
   "cell_type": "code",
   "execution_count": 65,
   "id": "5e207cab-7f38-4f26-af0a-d81104a0b05f",
   "metadata": {},
   "outputs": [],
   "source": [
    "inputs = {\n",
    "    \"assistant_name\": \"Athena\",\n",
    "    \"user_input\": \"What's the weather like in Athens Greece and what your name?\"\n",
    "}"
   ]
  },
  {
   "cell_type": "code",
   "execution_count": 66,
   "id": "f67739a0-f068-49b8-8530-d7b9572920d3",
   "metadata": {},
   "outputs": [],
   "source": [
    "response = ''\n",
    "tool_calls = {}\n",
    "\n",
    "for chunk in chain.stream(inputs):\n",
    "    response += chunk.content\n",
    "    print(chunk.content, end='', flush=True)\n",
    "    \n",
    "    extract_tool_content(chunk, tool_calls)"
   ]
  },
  {
   "cell_type": "code",
   "execution_count": 67,
   "id": "545c8a7c-0aa2-45ab-8bb4-3ef0eb19feee",
   "metadata": {},
   "outputs": [
    {
     "data": {
      "text/plain": [
       "{0: {'name': 'get_weather',\n",
       "  'args': '{\"location\": \"Athens, Greece\"}',\n",
       "  'id': 'call_EqTmQy99WODEgdhrQdCKToPB'}}"
      ]
     },
     "execution_count": 67,
     "metadata": {},
     "output_type": "execute_result"
    }
   ],
   "source": [
    "tool_calls"
   ]
  },
  {
   "cell_type": "code",
   "execution_count": 68,
   "id": "b35ec535-87f9-4980-a4f4-02a49295f83c",
   "metadata": {},
   "outputs": [
    {
     "data": {
      "text/plain": [
       "''"
      ]
     },
     "execution_count": 68,
     "metadata": {},
     "output_type": "execute_result"
    }
   ],
   "source": [
    "response"
   ]
  },
  {
   "cell_type": "markdown",
   "id": "5ca86bac-a959-4c12-adb3-b69a6ca2eafe",
   "metadata": {
    "jp-MarkdownHeadingCollapsed": true
   },
   "source": [
    "### Agent with Structure Response"
   ]
  },
  {
   "cell_type": "code",
   "execution_count": 69,
   "id": "d80e9f3f-db3c-4dae-9fce-5e532be48d22",
   "metadata": {},
   "outputs": [],
   "source": [
    "analyzer_llm = ChatOpenAI(model=MODEL_NAME).with_structured_output(AnalyzerOutput)"
   ]
  },
  {
   "cell_type": "code",
   "execution_count": 70,
   "id": "823d487f-ec8d-41c8-8132-ac5a8515bb83",
   "metadata": {},
   "outputs": [],
   "source": [
    "analyzer_chain = analyzer_prompt | analyzer_llm"
   ]
  },
  {
   "cell_type": "code",
   "execution_count": 71,
   "id": "a90cc8ce-3ffe-4c4b-be51-162eecb4eb1c",
   "metadata": {},
   "outputs": [
    {
     "data": {
      "text/plain": [
       "AnalyzerOutput(classification='Non-Religious', key_topics=['Greetings', 'Salutation'], context_requirements=\"The query 'Hello' is a simple greeting with no additional context provided, and it does not contain religious themes or specific topics. More context would be needed if the query intended to delve into religious or complex topics.\", query_complexity='Low', reasoning=\"The query 'Hello' is a basic greeting and does not include any religious themes, practices, or terminology. It is classified as non-religious and is considered a low complexity query involving common conversational language.\")"
      ]
     },
     "execution_count": 71,
     "metadata": {},
     "output_type": "execute_result"
    }
   ],
   "source": [
    "text = analyzer_chain.invoke('Hello')\n",
    "text"
   ]
  },
  {
   "cell_type": "code",
   "execution_count": 72,
   "id": "2d575e64-63b6-45cd-b4b3-70e2a78211be",
   "metadata": {},
   "outputs": [
    {
     "name": "stdout",
     "output_type": "stream",
     "text": [
      "Non-Religious \n",
      "\n",
      "\n",
      "The query 'Hello' is a simple greeting with no additional context provided, and it does not contain religious themes or specific topics. More context would be needed if the query intended to delve into religious or complex topics. \n",
      "\n",
      "\n",
      "['Greetings', 'Salutation'] \n",
      "\n",
      "\n",
      "Low \n",
      "\n",
      "\n",
      "The query 'Hello' is a basic greeting and does not include any religious themes, practices, or terminology. It is classified as non-religious and is considered a low complexity query involving common conversational language. \n",
      "\n",
      "\n"
     ]
    }
   ],
   "source": [
    "print(text.classification, '\\n\\n')\n",
    "print(text.context_requirements, '\\n\\n')\n",
    "print(text.key_topics, '\\n\\n')\n",
    "print(text.query_complexity, '\\n\\n')\n",
    "print(text.reasoning, '\\n\\n')"
   ]
  },
  {
   "cell_type": "code",
   "execution_count": 73,
   "id": "db5bc60a-d440-4e68-a981-260438ca96d9",
   "metadata": {},
   "outputs": [
    {
     "data": {
      "text/plain": [
       "__main__.AnalyzerOutput"
      ]
     },
     "execution_count": 73,
     "metadata": {},
     "output_type": "execute_result"
    }
   ],
   "source": [
    "type(text)"
   ]
  },
  {
   "cell_type": "code",
   "execution_count": 74,
   "id": "af5453d9-f5b2-4811-91a7-cb7c6ba9e0df",
   "metadata": {},
   "outputs": [
    {
     "name": "stdout",
     "output_type": "stream",
     "text": [
      "The query 'Hello' is a basic greeting and does not include any religious themes, practices, or terminology. It is classified as non-religious and is considered a low complexity query involving common conversational language.\n",
      "\n",
      "The analysis of the user query shows that the question is Non-Religious and with a Low complexity. Specifically, the analysis said the following: The query 'Hello' is a simple greeting with no additional context provided, and it does not contain religious themes or specific topics. More context would be needed if the query intended to delve into religious or complex topics. Key topics: Greetings, Salutation.\n"
     ]
    }
   ],
   "source": [
    "analysis_report = (\n",
    "    f\"{text.reasoning}\\n\\n\"\n",
    "    f\"The analysis of the user query shows that the question is {text.classification} \"\n",
    "    f\"and with a {text.query_complexity} complexity. Specifically, the analysis said the following: \"\n",
    "    f\"{text.context_requirements} Key topics: {', '.join(text.key_topics)}.\"\n",
    ")\n",
    "print(analysis_report)"
   ]
  },
  {
   "cell_type": "code",
   "execution_count": null,
   "id": "17044902-b301-4fe6-bbb0-aa93d7689ae5",
   "metadata": {},
   "outputs": [],
   "source": []
  },
  {
   "cell_type": "code",
   "execution_count": null,
   "id": "e4d803c7-862a-4063-97ee-eb61c956964c",
   "metadata": {},
   "outputs": [],
   "source": []
  },
  {
   "cell_type": "code",
   "execution_count": null,
   "id": "4e9f6c31-6dca-47d1-b54d-130cfcd01643",
   "metadata": {},
   "outputs": [],
   "source": []
  },
  {
   "cell_type": "code",
   "execution_count": null,
   "id": "f1a42507-8584-466a-8be5-8d5f1e3c76b5",
   "metadata": {},
   "outputs": [],
   "source": []
  }
 ],
 "metadata": {
  "kernelspec": {
   "display_name": "Python 3 (ipykernel)",
   "language": "python",
   "name": "python3"
  },
  "language_info": {
   "codemirror_mode": {
    "name": "ipython",
    "version": 3
   },
   "file_extension": ".py",
   "mimetype": "text/x-python",
   "name": "python",
   "nbconvert_exporter": "python",
   "pygments_lexer": "ipython3",
   "version": "3.10.12"
  }
 },
 "nbformat": 4,
 "nbformat_minor": 5
}
