{
 "cells": [
  {
   "cell_type": "markdown",
   "id": "74021224-3811-4ecc-a82d-648bdd6c7fc4",
   "metadata": {},
   "source": [
    "# OrthodoxAI - RAG"
   ]
  },
  {
   "cell_type": "markdown",
   "id": "3300d946-af80-477a-bb61-8b3fdf80199a",
   "metadata": {},
   "source": [
    "> Konstantinos Mpouros <br>\n",
    "> Github: https://github.com/konstantinosmpouros?tab=repositories<br>\n",
    "> Year: 2025"
   ]
  },
  {
   "cell_type": "markdown",
   "id": "b7a59bd4-045c-42c1-90c2-30ff25c82a87",
   "metadata": {},
   "source": [
    "## About the Project"
   ]
  },
  {
   "cell_type": "markdown",
   "id": "37b5f81a-511a-4122-a03f-50655c12b338",
   "metadata": {},
   "source": [
    "This notebook is dedicated to prototyping and testing **workflow orchestration techniques using LangGraph** within the **OrthodoxAI** framework.\n",
    "\n",
    "It serves as a sandbox to:\n",
    "\n",
    "- Explore different LangGraph workflows for managing agentic interactions  \n",
    "- Experiment with stateful workflows and **callback mechanisms** for emitting and tracking state updates  \n",
    "- Test modular and reactive design patterns to build more maintainable and debuggable agent systems  \n",
    "- Benchmark the efficiency and flexibility of various state transition techniques\n",
    "\n",
    "This notebook is focused on the **workflow and orchestration layer**, without yet involving generation pipelines or vector store retrieval. The goal is to solidify the infrastructure for dynamic agent behavior before integrating more complex RAG components."
   ]
  },
  {
   "cell_type": "markdown",
   "id": "6aa3ad38-036d-48a5-bc10-11894e1e8f8a",
   "metadata": {},
   "source": [
    "## Libraries"
   ]
  },
  {
   "cell_type": "code",
   "execution_count": null,
   "id": "267c2a85-7588-4b83-86e4-0e561f90174b",
   "metadata": {},
   "outputs": [],
   "source": []
  },
  {
   "cell_type": "code",
   "execution_count": null,
   "id": "5790253e-c23f-497b-905f-29988df4e6b4",
   "metadata": {},
   "outputs": [],
   "source": []
  },
  {
   "cell_type": "code",
   "execution_count": null,
   "id": "1a4e4334-0157-49eb-9bdf-d8fe80c24a6c",
   "metadata": {},
   "outputs": [],
   "source": []
  },
  {
   "cell_type": "code",
   "execution_count": null,
   "id": "986f5a8b-11c6-4ca2-b0dd-7cbf539dad0b",
   "metadata": {},
   "outputs": [],
   "source": []
  },
  {
   "cell_type": "code",
   "execution_count": null,
   "id": "d6a993d6-277b-49d8-a684-8f8df08d04e8",
   "metadata": {},
   "outputs": [],
   "source": []
  },
  {
   "cell_type": "code",
   "execution_count": null,
   "id": "3a432212-8932-4995-bd24-74c7d109f583",
   "metadata": {},
   "outputs": [],
   "source": []
  }
 ],
 "metadata": {
  "kernelspec": {
   "display_name": "Python 3 (ipykernel)",
   "language": "python",
   "name": "python3"
  },
  "language_info": {
   "codemirror_mode": {
    "name": "ipython",
    "version": 3
   },
   "file_extension": ".py",
   "mimetype": "text/x-python",
   "name": "python",
   "nbconvert_exporter": "python",
   "pygments_lexer": "ipython3",
   "version": "3.10.12"
  }
 },
 "nbformat": 4,
 "nbformat_minor": 5
}
